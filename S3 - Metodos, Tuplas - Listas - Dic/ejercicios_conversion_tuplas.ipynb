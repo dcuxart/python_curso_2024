{
 "cells": [
  {
   "cell_type": "code",
   "execution_count": 1,
   "metadata": {},
   "outputs": [
    {
     "data": {
      "text/plain": [
       "(1, 2, 3)"
      ]
     },
     "execution_count": 1,
     "metadata": {},
     "output_type": "execute_result"
    }
   ],
   "source": [
    "# Ejercicio 1: Convierte una lista 1, 2, 3 en una tupla:\n",
    "\n",
    "lista = [1, 2, 3]\n",
    "\n",
    "lista_conversion_tupla = tuple(lista)\n",
    "\n",
    "lista_conversion_tupla"
   ]
  },
  {
   "cell_type": "code",
   "execution_count": 4,
   "metadata": {},
   "outputs": [
    {
     "data": {
      "text/plain": [
       "{'clave1': 'valor1', 'clave2': 'valor2'}"
      ]
     },
     "execution_count": 4,
     "metadata": {},
     "output_type": "execute_result"
    }
   ],
   "source": [
    "# Ejercicio 2: Convierte una tupla (('clave1', 'valor1'), ('clave2', 'valor2')) en un diccionario:\n",
    "\n",
    "tupla = (('clave1', 'valor1'), ('clave2', 'valor2'))\n",
    "\n",
    "tupla_conversion_diccionario = dict(tupla)\n",
    "\n",
    "tupla_conversion_diccionario"
   ]
  },
  {
   "cell_type": "code",
   "execution_count": 8,
   "metadata": {},
   "outputs": [
    {
     "data": {
      "text/plain": [
       "['a', 'b']"
      ]
     },
     "execution_count": 8,
     "metadata": {},
     "output_type": "execute_result"
    }
   ],
   "source": [
    "# Ejercicio 3: Convierte un diccionario {\"a\":1, \"b\":2} en una lista de sus claves:\n",
    "\n",
    "diccionario = {\"a\" : 1, \"b\" : 2}\n",
    "\n",
    "diccionario_conversion_lista = list(diccionario.keys())\n",
    "\n",
    "diccionario_conversion_lista"
   ]
  }
 ],
 "metadata": {
  "kernelspec": {
   "display_name": "Python 3",
   "language": "python",
   "name": "python3"
  },
  "language_info": {
   "codemirror_mode": {
    "name": "ipython",
    "version": 3
   },
   "file_extension": ".py",
   "mimetype": "text/x-python",
   "name": "python",
   "nbconvert_exporter": "python",
   "pygments_lexer": "ipython3",
   "version": "3.12.4"
  }
 },
 "nbformat": 4,
 "nbformat_minor": 2
}
