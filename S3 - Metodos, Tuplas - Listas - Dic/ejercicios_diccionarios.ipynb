{
 "cells": [
  {
   "cell_type": "code",
   "execution_count": 10,
   "metadata": {},
   "outputs": [
    {
     "data": {
      "text/plain": [
       "{'nombre': 'Ana', 'edad': 25}"
      ]
     },
     "execution_count": 10,
     "metadata": {},
     "output_type": "execute_result"
    }
   ],
   "source": [
    "# Ejercicio 1: Crea un diccionario con las claves \"nombre\" y \"edad\", y los valores \"Ana\" y 25, respectivamente:\n",
    "\n",
    "diccionario = {'nombre' : 'Ana', 'edad' : 25}\n",
    "\n",
    "diccionario"
   ]
  },
  {
   "cell_type": "code",
   "execution_count": 9,
   "metadata": {},
   "outputs": [
    {
     "data": {
      "text/plain": [
       "{'nombre': 'Ana', 'edad': 25, 'ciudad': 'Barcelona'}"
      ]
     },
     "execution_count": 9,
     "metadata": {},
     "output_type": "execute_result"
    }
   ],
   "source": [
    "# Ejercicio 2: Añade una nueva clave \"ciudad\" con el valor \"Barcelona\":\n",
    "\n",
    "diccionario = {'nombre' : 'Ana', 'edad' : 25}\n",
    "\n",
    "diccionario['ciudad'] = 'Barcelona'\n",
    "\n",
    "diccionario\n"
   ]
  },
  {
   "cell_type": "code",
   "execution_count": 8,
   "metadata": {},
   "outputs": [
    {
     "data": {
      "text/plain": [
       "{'nombre': 'Ana', 'edad': 26}"
      ]
     },
     "execution_count": 8,
     "metadata": {},
     "output_type": "execute_result"
    }
   ],
   "source": [
    "# Ejercicio 3: Actualiza el valor de la clave \"edad\" a 26:\n",
    "\n",
    "diccionario = {'nombre' : 'Ana', 'edad' : 25}\n",
    "\n",
    "diccionario['edad'] = 26\n",
    "\n",
    "diccionario"
   ]
  },
  {
   "cell_type": "code",
   "execution_count": 7,
   "metadata": {},
   "outputs": [
    {
     "data": {
      "text/plain": [
       "{'nombre': 'Ana', 'edad': 25}"
      ]
     },
     "execution_count": 7,
     "metadata": {},
     "output_type": "execute_result"
    }
   ],
   "source": [
    "# Ejercicio 4: Elimina la clave \"ciudad\" y muestra su valor:\n",
    "\n",
    "diccionario = {'nombre' : 'Ana', 'edad' : 25, 'ciudad' : 'Barcelona'}\n",
    "\n",
    "diccionario.pop('ciudad')\n",
    "\n",
    "diccionario"
   ]
  }
 ],
 "metadata": {
  "kernelspec": {
   "display_name": "Python 3",
   "language": "python",
   "name": "python3"
  },
  "language_info": {
   "codemirror_mode": {
    "name": "ipython",
    "version": 3
   },
   "file_extension": ".py",
   "mimetype": "text/x-python",
   "name": "python",
   "nbconvert_exporter": "python",
   "pygments_lexer": "ipython3",
   "version": "3.12.4"
  }
 },
 "nbformat": 4,
 "nbformat_minor": 2
}
