{
 "cells": [
  {
   "cell_type": "markdown",
   "metadata": {},
   "source": [
    "## Acceso al servidor MySQL\n",
    "Para conectarnos a un servidor MySQL utilizamos un módulo que nos facilita esta tarea.\n",
    "Mediante el gestor de módulos de Python \"PIP\" instalamos este módulo y lo importamos:\n",
    "\n",
    "    - pip install mysql-connector-python\n",
    "    - https://dev.mysql.com/doc/connector-python/en/connector-python-example-connecting.html\n",
    "    "
   ]
  },
  {
   "cell_type": "code",
   "execution_count": 7,
   "metadata": {},
   "outputs": [],
   "source": [
    "import mysql.connector\n",
    "\n",
    "connex = mysql.connector.connect(\n",
    "    user = \"root\",\n",
    "    password = \"\",\n",
    "    host = \"localhost\",\n",
    "    database = \"prueba\"\n",
    ")"
   ]
  },
  {
   "cell_type": "code",
   "execution_count": 13,
   "metadata": {},
   "outputs": [
    {
     "name": "stdout",
     "output_type": "stream",
     "text": [
      "[(1, 'Hola mundo!'), (2, 'Hello world!')]\n",
      "{1: 'Hola mundo!', 2: 'Hello world!'}\n"
     ]
    }
   ],
   "source": [
    "# Creamos cursor que nos permite ejecutar código SQL (create, select, insert...)\n",
    "cursor = connex.cursor()\n",
    "\n",
    "# Vacía la tabla de registros\n",
    "cursor.execute(\"truncate table mis_datos\")\n",
    "\n",
    "# Insertamos un registro en la tabla \"mis_datos\"\n",
    "cursor.execute(\"insert into mis_datos values(null, 'Hola mundo!')\")\n",
    "cursor.execute(\"insert into mis_datos values(null, 'Hello world!')\")\n",
    "\n",
    "# Se realiza commit (acción)\n",
    "connex.commit()\n",
    "\n",
    "# Cerrar\n",
    "cursor.close()\n",
    "\n",
    "# Creamos un nuevo cursor para realizar una consulta\n",
    "cursor2 = connex.cursor()\n",
    "cursor2.execute(\"select * from mis_datos\")\n",
    "datos = cursor2.fetchall()\n",
    "print(datos) # resulta una tupla\n",
    "print(dict(datos))"
   ]
  }
 ],
 "metadata": {
  "kernelspec": {
   "display_name": "Python 3",
   "language": "python",
   "name": "python3"
  },
  "language_info": {
   "codemirror_mode": {
    "name": "ipython",
    "version": 3
   },
   "file_extension": ".py",
   "mimetype": "text/x-python",
   "name": "python",
   "nbconvert_exporter": "python",
   "pygments_lexer": "ipython3",
   "version": "3.11.4"
  }
 },
 "nbformat": 4,
 "nbformat_minor": 2
}
