{
 "cells": [
  {
   "cell_type": "markdown",
   "metadata": {},
   "source": [
    "### Tratamiento de Excepciones\n",
    "\n",
    "Una excepción es un error que ocurre durante la ejecución de un programa. Cuadno se procduce una excepción, el programa se detiene y Pythoon captura esa excepción. Mediatne este manejo de errores podemos controlar cualquier evento o error."
   ]
  },
  {
   "cell_type": "code",
   "execution_count": null,
   "metadata": {},
   "outputs": [],
   "source": [
    "# Sintaxis:\n",
    "\n",
    "try:\n",
    "    # código que puede lanzar una excepción\n",
    "\n",
    "except Exception as e:+\n",
    "    # Código que se ejecuta si se lanza excepción.\n",
    "\n",
    "finally:\n",
    "    # Código que se ejecuta siempre. Es opcional y es habitual para printar que se han liberado recursos, cerrado conexiones o ficheros."
   ]
  },
  {
   "cell_type": "code",
   "execution_count": 5,
   "metadata": {},
   "outputs": [
    {
     "name": "stdout",
     "output_type": "stream",
     "text": [
      "Error: name 'y' is not defined\n",
      "Finalizado\n"
     ]
    }
   ],
   "source": [
    "# Ejemplo 1:\n",
    "\n",
    "try:\n",
    "    x = 4\n",
    "    print(x)\n",
    "except Exception as e:\n",
    "    print(\"Error: \" + str(e))\n",
    "finally:\n",
    "    print(\"Finalizado\")"
   ]
  },
  {
   "cell_type": "code",
   "execution_count": 7,
   "metadata": {},
   "outputs": [
    {
     "name": "stdout",
     "output_type": "stream",
     "text": [
      "Error : division by zero\n"
     ]
    }
   ],
   "source": [
    "# Ejemplo 2:\n",
    "\n",
    "try:\n",
    "    print(1/0)\n",
    "except Exception as e:\n",
    "    print(\"Error : \" + str(e))"
   ]
  },
  {
   "cell_type": "code",
   "execution_count": 8,
   "metadata": {},
   "outputs": [
    {
     "name": "stdout",
     "output_type": "stream",
     "text": [
      "El recurso ha finalizado\n"
     ]
    }
   ],
   "source": [
    "# Ejemplo 3: Consumo de recurso asicrono.\n",
    "\n",
    "try:\n",
    "    # Temporazador que simula tiempo de consumo.\n",
    "    import time\n",
    "    time.sleep(5)\n",
    "except:\n",
    "    print(\"Error: \" + str(e))\n",
    "finally:\n",
    "    print(\"El recurso ha finalizado\")"
   ]
  },
  {
   "cell_type": "code",
   "execution_count": 16,
   "metadata": {},
   "outputs": [
    {
     "name": "stdout",
     "output_type": "stream",
     "text": [
      "Error code: 2003\n",
      "SQLSTATE value: HY000\n",
      "Error message: Can't connect to MySQL server on 'localhost:3306' (10061)\n"
     ]
    }
   ],
   "source": [
    "# Ejemplo 4: Conexión a base de datos MySQL\n",
    "import mysql.connector\n",
    "from mysql.connector import Error\n",
    "\n",
    "# Las excepciones de un módulo que se ha instalado mediante PIP se gestionan co nsus propias Clases, en este caso lo podemos ver en su documentación.\n",
    "# https://dev.mysql.com/doc/connector-python/en/connector-python-api-errors-error.html\n",
    "# Suponemos una función (utils.py) que conecta a un servidor MySQL.\n",
    "def get_connection():\n",
    "    try:\n",
    "        connex = mysql.connector.connect(\n",
    "        user = \"root\",\n",
    "        password = \"\",\n",
    "        host = \"localhost\",\n",
    "        database = \"test\"\n",
    "        )\n",
    "        if connex.is_connected():\n",
    "            print(\"Conexión a MySQL correcta!\")\n",
    "    except Error as e:\n",
    "        # print(\"Error en la conexión a MySQL: \" + str(e))\n",
    "        print (\"Error code:\", e.errno)        # error number\n",
    "        print (\"SQLSTATE value:\", e.sqlstate) # SQLSTATE value\n",
    "        print (\"Error message:\", e.msg)       # error message\n",
    "\n",
    "get_connection()"
   ]
  },
  {
   "cell_type": "code",
   "execution_count": null,
   "metadata": {},
   "outputs": [],
   "source": []
  }
 ],
 "metadata": {
  "kernelspec": {
   "display_name": "Python 3",
   "language": "python",
   "name": "python3"
  },
  "language_info": {
   "codemirror_mode": {
    "name": "ipython",
    "version": 3
   },
   "file_extension": ".py",
   "mimetype": "text/x-python",
   "name": "python",
   "nbconvert_exporter": "python",
   "pygments_lexer": "ipython3",
   "version": "3.12.4"
  }
 },
 "nbformat": 4,
 "nbformat_minor": 2
}
