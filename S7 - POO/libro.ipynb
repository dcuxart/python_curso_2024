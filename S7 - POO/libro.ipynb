{
 "cells": [
  {
   "cell_type": "code",
   "execution_count": 1,
   "metadata": {},
   "outputs": [
    {
     "data": {
      "text/plain": [
       "{'isbn': '1111111111111',\n",
       " 'titulo': '1984',\n",
       " 'autor': 'George Orwell',\n",
       " 'genero': 'Distopico'}"
      ]
     },
     "execution_count": 1,
     "metadata": {},
     "output_type": "execute_result"
    }
   ],
   "source": [
    "class Libro:\n",
    "    def __init__(self, isbn, titulo, autor, genero):\n",
    "        self.isbn = isbn        \n",
    "        self.titulo = titulo\n",
    "        self.autor = autor\n",
    "        self.genero = genero\n",
    "\n",
    "\n",
    "libro1 = Libro('1111111111111', '1984', 'George Orwell', 'Distopico')\n",
    "libro1.__dict__"
   ]
  }
 ],
 "metadata": {
  "kernelspec": {
   "display_name": "Python 3",
   "language": "python",
   "name": "python3"
  },
  "language_info": {
   "codemirror_mode": {
    "name": "ipython",
    "version": 3
   },
   "file_extension": ".py",
   "mimetype": "text/x-python",
   "name": "python",
   "nbconvert_exporter": "python",
   "pygments_lexer": "ipython3",
   "version": "3.12.4"
  }
 },
 "nbformat": 4,
 "nbformat_minor": 2
}
