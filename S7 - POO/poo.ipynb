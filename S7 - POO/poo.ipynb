{
 "cells": [
  {
   "cell_type": "markdown",
   "metadata": {},
   "source": [
    "### Definición\n",
    "\n",
    "Podemos definir un objeto en programación como un conjunto de propiedades o atributos y métodos.\n",
    "\n",
    "A las propiedades y a las variables también les podemos llamar DATOS y a los métodos FUNCIONES.\n",
    "\n",
    "### Terminología\n",
    "\n",
    "- Clase: Plantilla/ \"Fábrica\" de objetos que define las características de un objeto concreto.\n",
    "- Instancia: El proceso en el que se crea un objeto.\n",
    "- Prop o atributos: Características de un objeto.\n",
    "- Métodos: La capacidad o acción de un objeto.\n",
    "- Constructor: Método especial cuya función principal es inicializar las propiedades de un objeto al instanciarse. Se ejecuta automáticamente en esa instancia. NO ES OBLIGATORIO.\n",
    "- Herencia: Una clase creada mediante herencia (subclase) y hereda todas las props y los métodos de la (superclase).\n",
    "- Encapsulamiento: La capacidad de ocultar props o métodos que se consideren, o bien privados o innecesarios para la interacción de el objeto desde el exterior.\n",
    "- Abstracción: Proceso de diseño de las clases que nos definen las cualidades del objeto.\n",
    "- Polimorfismo: La manera de que diferentes clases podrían definir la misma propiedad o método."
   ]
  },
  {
   "cell_type": "code",
   "execution_count": 13,
   "metadata": {},
   "outputs": [
    {
     "data": {
      "text/plain": [
       "{'nombre_usuario': 'armand',\n",
       " 'email': 'armand@gmail.com',\n",
       " 'password': '123',\n",
       " 'email_confirmado': False,\n",
       " 'x': 5}"
      ]
     },
     "execution_count": 13,
     "metadata": {},
     "output_type": "execute_result"
    }
   ],
   "source": [
    "# Ejemplo clase Usuario\n",
    "\n",
    "class Usuario:\n",
    "    # constructor\n",
    "    # self: Hace referencia a la instancia de la clase.\n",
    "    def __init__(self, nombre_usuario, email, password):\n",
    "        # asigno a las props de la clase, lo que llega de la instancia del objeto.\n",
    "        self.nombre_usuario = nombre_usuario\n",
    "        self.email = email\n",
    "        self.password = password\n",
    "        self.email_confirmado = False\n",
    "\n",
    "    # Método de confirma el email.\n",
    "    def emailConfirmado(self):\n",
    "        self.email_confirmado = True\n",
    "\n",
    "usuario1 = Usuario(\"armand\", \"armand@gmail.com\", \"123\")\n",
    "\n",
    "# Imprimir todas las props de un objeto\n",
    "# usuario1.__dict__\n",
    "\n",
    "# Suponer que el usuario ha confirmado su emial.\n",
    "# usuario1.emailConfirmado()\n",
    "# usuario1.__dict__\n",
    "\n",
    "# ¿Puedo crear una nueva propiedad desde aquí? Sí.\n",
    "\n",
    "usuario1.x = 5\n",
    "usuario1.__dict__\n",
    "\n",
    "# Interacción con los objetos\n",
    "\n",
    "# print(usuario1.email)"
   ]
  },
  {
   "cell_type": "code",
   "execution_count": 15,
   "metadata": {},
   "outputs": [
    {
     "name": "stdout",
     "output_type": "stream",
     "text": [
      "La antigüedad del coche1 es: 4 años\n",
      "True\n"
     ]
    },
    {
     "data": {
      "text/plain": [
       "7.0710678118654755"
      ]
     },
     "execution_count": 15,
     "metadata": {},
     "output_type": "execute_result"
    }
   ],
   "source": [
    "# Ejemplo coche:\n",
    "\n",
    "class Coche:\n",
    "    def __init__(self, any, color, marca = \"Mercedes\"):\n",
    "        self.any = any\n",
    "        self.color = color\n",
    "        self.marca = marca\n",
    "        self.ensamblado = False\n",
    "    \n",
    "    def get_antiguedad_coche(self):\n",
    "        from datetime import datetime\n",
    "        # Siempre que dentro hacemos referencia a una prop o método va precedido de \"self\".\n",
    "        return datetime.now().year - self.any\n",
    "    \n",
    "    # Método setter ()\n",
    "    def set_ensamblado(self):\n",
    "        self.ensamblado = True\n",
    "\n",
    "    # Método getter:\n",
    "    def get_ensamblado(self):\n",
    "        return self.ensamblado\n",
    "    \n",
    "coche1 = Coche(2020, \"Rojo\")\n",
    "\n",
    "# coche1.__dict__\n",
    "print(f\"La antigüedad del coche1 es: {coche1.get_antiguedad_coche()} años\")\n",
    "\n",
    "# Desde fuera lo podemos cambiar:\n",
    "# coche1.ensamblado = True\n",
    "# print(coche1.__dict__)\n",
    "\n",
    "# cambiamos el ensamblado\n",
    "coche1.set_ensamblado() #ensamblado = True\n",
    "print(coche1.get_ensamblado()) #ensamblado = True\n",
    "\n",
    "# Ejemplo método estático. No e snecesario llamar a estos métodos a través de la instancia de su clase (creación del objeto).\n",
    "\n",
    "class Punto:\n",
    "    def __init__(self, x, y):\n",
    "        self.x = x\n",
    "        self.y = y\n",
    "\n",
    "    @staticmethod # Define el método como estático\n",
    "    def get_distancia(a, b):\n",
    "        dx = a.x - b.x\n",
    "        dy = a.y - b.y\n",
    "        return (dx ** 2 + dy ** 2) ** 0.5\n",
    "\n",
    "\n",
    "punto1 = Punto(5, 5)\n",
    "punto2 = Punto(10, 10)\n",
    "\n",
    "Punto.get_distancia(punto1, punto2)"
   ]
  },
  {
   "cell_type": "code",
   "execution_count": 1,
   "metadata": {},
   "outputs": [],
   "source": [
    "# Herencia:\n",
    "\n",
    "class Vehiculo:\n",
    "    def __init__(self, color, marca, any):\n",
    "        self.color = color\n",
    "        self.marca = marca\n",
    "        self.any = any\n",
    "\n",
    "    def get_antiguedad_vehiculo(self):\n",
    "        from datetime import datetime\n",
    "        print(datetime.now().year - self.any)\n",
    "\n",
    "# subclase\n",
    "class Coche(Vehiculo):\n",
    "    # El constructor hereda de la superclase sus props y añadimos las exclusivas de esta propia clase (subclase).\n",
    "    def __init__(self, color, marca, any, num_puertas):\n",
    "        super().__init__(color, marca, any)\n",
    "        self.num_puertas = num_puertas\n",
    "    \n",
    "    def abrir_maletero(self):\n",
    "        print(\"Has abierto el maletero!\")\n",
    "\n",
    "# Subclase Moto\n",
    "class Moto(Vehiculo):\n",
    "    # El constructor hereda de la superclase sus props y añadimos las exclusivas de esta propia clase (subclase).\n",
    "    def __init__(self, color, marca, any, caballito):\n",
    "        super().i__init__(color, marca, any)\n",
    "        self.caballito = caballito\n",
    "    \n",
    "    def hacer_caballito(self):\n",
    "        print(\"Has hecho un caballito!\")\n",
    "    "
   ]
  },
  {
   "cell_type": "code",
   "execution_count": 44,
   "metadata": {},
   "outputs": [
    {
     "name": "stdout",
     "output_type": "stream",
     "text": [
      "50\n"
     ]
    }
   ],
   "source": [
    "# Encapsulamiento\n",
    "\n",
    "class CocheEncapsulacion:\n",
    "    def __init__(self, any, color, marca):\n",
    "        self.any = any\n",
    "        self.color = color\n",
    "        self.marca = marca\n",
    "        # Propiedad privada (tan solo accesible desde dentro)\n",
    "        self.__nivel_deposito = 0\n",
    "\n",
    "    # Si queremos interactur con props privados utilizamos métodos \"setters\" y \"getters\"\n",
    "    # SETTER\n",
    "    def set_llenar_deposito(self, litros):\n",
    "        total = self.__nivel_deposito + litros\n",
    "        # Suponemos que el depósito tiene capacidad máxima de 100 litros\n",
    "        if total > 100:\n",
    "            self.__nivel_deposito = 100\n",
    "            return print(\"Depósito lleno\")\n",
    "        else:\n",
    "            self.__nivel_deposito = total\n",
    "            return f\"El depósito tiene {total} litros\"\n",
    "        \n",
    "    # GETTER\n",
    "    def get_nivel_deposito(self):\n",
    "        return self.__nivel_deposito\n",
    "\n",
    "\n",
    "coche2 = CocheEncapsulacion(2020, 'Rojo', 'Fiat')\n",
    "# Comprobacion de prop privada\n",
    "# print(coche2.__nivel_deposito == 30)\n",
    "\n",
    "# Utilizamos el método getter para leer la prop privada\n",
    "# print(coche2.get_nivel_deposito())\n",
    "\n",
    "# Repostamos:\n",
    "\n",
    "coche2.set_llenar_deposito(50)\n",
    "print(coche2.get_nivel_deposito())\n",
    "# coche2.set_llenar_deposito(40)"
   ]
  }
 ],
 "metadata": {
  "kernelspec": {
   "display_name": "Python 3",
   "language": "python",
   "name": "python3"
  },
  "language_info": {
   "codemirror_mode": {
    "name": "ipython",
    "version": 3
   },
   "file_extension": ".py",
   "mimetype": "text/x-python",
   "name": "python",
   "nbconvert_exporter": "python",
   "pygments_lexer": "ipython3",
   "version": "3.11.4"
  }
 },
 "nbformat": 4,
 "nbformat_minor": 2
}
