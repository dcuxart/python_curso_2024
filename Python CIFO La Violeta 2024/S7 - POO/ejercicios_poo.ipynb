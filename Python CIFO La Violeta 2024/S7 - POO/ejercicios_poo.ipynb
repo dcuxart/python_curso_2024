{
 "cells": [
  {
   "cell_type": "markdown",
   "metadata": {},
   "source": [
    "### Ejercicios Programación orientada a objetos"
   ]
  },
  {
   "cell_type": "code",
   "execution_count": 2,
   "metadata": {},
   "outputs": [
    {
     "name": "stdout",
     "output_type": "stream",
     "text": [
      "Pablo 50 Portugal\n",
      "None\n"
     ]
    }
   ],
   "source": [
    "# Ejercicio 1: Crea una clase llamara Persona que tendrá los siguientes atributos: nombre, edad y país de origen.\n",
    "# La clase tendrá el método mostrar_datos que mostrará los datos de la persona.\n",
    "\n",
    "class Persona:\n",
    "    def __init__(self, nombre,edad, pais):\n",
    "        self.nombre = nombre\n",
    "        self.edad = edad\n",
    "        self.pais = pais\n",
    "\n",
    "    def mostrarDatos(self):\n",
    "        print(self.nombre, self.edad, self.pais)\n",
    "\n",
    "persona1 = Persona('Pablo', 50, 'Portugal')\n",
    "print(persona1.mostrarDatos())"
   ]
  },
  {
   "cell_type": "code",
   "execution_count": 15,
   "metadata": {},
   "outputs": [
    {
     "name": "stdout",
     "output_type": "stream",
     "text": [
      "50\n"
     ]
    }
   ],
   "source": [
    "# Ejercicio 2: Crea una clase llamada Rectángulo que tendrá los siguientes atributos: base y altura.\n",
    "# La base tendrá un método llamado calcular_area que mostrará el área del rectángulo.\n",
    "\n",
    "class Rectangulo:\n",
    "    def __init__(self, base, altura):\n",
    "        self.base = base\n",
    "        self.altura = altura\n",
    "\n",
    "    def calcular_area(self):\n",
    "        return self.base * self.altura\n",
    "    \n",
    "rectangulo1 = Rectangulo(10, 5)\n",
    "print(rectangulo1.calcular_area())"
   ]
  },
  {
   "cell_type": "code",
   "execution_count": 39,
   "metadata": {},
   "outputs": [
    {
     "name": "stdout",
     "output_type": "stream",
     "text": [
      "No se puede retirar esa cantidad\n"
     ]
    }
   ],
   "source": [
    "# Ejercicio 3: Crea una clase llamada Cuenta que tendrá los siguientes atributos: titular y cantidad.\n",
    "# La clase tendrá dos métodos:\n",
    "# - Ingresar: se ingresa una cantidad a la cuenta, si la cantidad es negativa, no se hará nada.\n",
    "# - Retirar: se retira una cantidad a la cuenta, si la cantidad es negativa, no se hará nada.\n",
    "\n",
    "class Cuenta:\n",
    "    def __init__(self, titular, cantidad):\n",
    "        self.titular = titular\n",
    "        self.cantidad = cantidad\n",
    "    \n",
    "    def ingresar(self, dinero):\n",
    "        total = self.cantidad + dinero \n",
    "        if total < 0:\n",
    "            return print(\"No se puede ingresar una cantidad negativa\")\n",
    "        else:\n",
    "            self.cantidad = total\n",
    "            return print(f\"La cuenta tiene {total} euros\")\n",
    "\n",
    "    def retirar(self, dinero):\n",
    "        total = self.cantidad - dinero\n",
    "        if total < 0:\n",
    "            return print(\"No se puede retirar esa cantidad\")\n",
    "        else:\n",
    "            self.cantidad = total\n",
    "            return print(f\"La cuenta tiene {total} cantidad\")\n",
    "        \n",
    "    # extra: Mostrar saldo\n",
    "    def mostrar_saldo(self):\n",
    "        print(\"Tu saldo es: \" + str(self.cantidad))\n",
    "\n",
    "\n",
    "cuenta1 = Cuenta('Pablo', 5)\n",
    "cuenta1.retirar(10)\n",
    "        "
   ]
  },
  {
   "cell_type": "code",
   "execution_count": null,
   "metadata": {},
   "outputs": [],
   "source": [
    "class Cuenta:\n",
    "    # constructor\n",
    "    def __init__(self, titular, cantidad=0):\n",
    "        self.titular = titular\n",
    "        self.cantidad = cantidad\n",
    "\n",
    "    def ingresar(self, cantidad):\n",
    "        if cantidad > 0:\n",
    "            self.cantidad += cantidad\n",
    "        else:\n",
    "            print(\"La cantidad tiene que ser positiva\")\n",
    "    \n",
    "    def retirar(self, cantidad):\n",
    "        if cantidad > 0:\n",
    "            self.cantidad -= cantidad\n",
    "        else:\n",
    "            print(\"La cantidad tiene que ser positiva\")\n",
    "\n",
    "    # extra: Mostrar saldo\n",
    "    def mostrar_saldo(self):\n",
    "        print(\"Tu saldo es: \" + str(self.cantidad))\n",
    "\n",
    "cuenta1 = Cuenta(\"Pepe\")\n",
    "cuenta2 = Cuenta(\"Maria\", 1000)\n",
    "\n",
    "cuenta1.ingresar(500)\n",
    "cuenta1.retirar(300)\n",
    "cuenta1.mostrar_saldo()\n"
   ]
  },
  {
   "cell_type": "code",
   "execution_count": 50,
   "metadata": {},
   "outputs": [
    {
     "name": "stdout",
     "output_type": "stream",
     "text": [
      "Econometría I George Powell Econometría\n"
     ]
    }
   ],
   "source": [
    "# Ejercicio 4: Crea una clase llamda Libro, que tendrá los siguientes atributos: titulo y autor.\n",
    "# La clase tendrá un método llamado mostrar_datos que mostrará los datos del libro.\n",
    "# Crea una clase llamada LibroTecnico que herede la clase Libro y añade un atributo llamado tema.\n",
    "# La clase LibroTecnico tendrá un método llamado mostrar_datos que mostrará los datos del libro.\n",
    "\n",
    "class Libro:\n",
    "    def __init__(self, titulo, autor):\n",
    "        self.titulo = titulo\n",
    "        self.autor = autor\n",
    "\n",
    "    def mostrar_datos(self):\n",
    "        print(self.titulo, self.autor)\n",
    "\n",
    "class LibroTecnico(Libro):\n",
    "    def __init__(self, titulo, autor, tema):\n",
    "        super().__init__(titulo, autor)\n",
    "        self.tema = tema\n",
    "    \n",
    "    def mostrarDatos(self):\n",
    "        print(self.titulo, self.autor, self.tema)\n",
    "\n",
    "libro_tecnico1 = LibroTecnico(\"Econometría I\", \"George Powell\", \"Econometría\")\n",
    "libro_tecnico1.mostrarDatos()"
   ]
  },
  {
   "cell_type": "code",
   "execution_count": null,
   "metadata": {},
   "outputs": [],
   "source": [
    "class Libro: \n",
    "    # constructor\n",
    "    def __init__(self, titulo, autor):\n",
    "        self.titulo = titulo\n",
    "        self.autor = autor\n",
    "\n",
    "    def mostrar_datos(self):\n",
    "        print(f\"Titulo: {self.titulo}, Autor: {self.autor}\")\n",
    "\n",
    "    def mostrar_autor(self):\n",
    "        print(f\"Autor: {self.autor}\")\n",
    "\n",
    "# subclase\n",
    "class LibroTecnico(Libro):\n",
    "    # constructor\n",
    "    def __init__(self, titulo, autor, tema):\n",
    "        super().__init__(titulo, autor)\n",
    "        self.tema = tema\n",
    "\n",
    "    def mostrar_datos(self):\n",
    "        print(f\"Titulo: {self.titulo}, Autor: {self.autor}, Tema: {self.tema}\")\n",
    "\n",
    "\n",
    "libroPython = LibroTecnico(\"Introducción a Python\", \"Pepe\", \"Programación\")\n",
    "libroPython.mostrar_datos() # metodo de la subclase\n",
    "libroPython.mostrar_autor() # metodo de la superclase (heredado)"
   ]
  },
  {
   "cell_type": "code",
   "execution_count": 96,
   "metadata": {},
   "outputs": [
    {
     "data": {
      "text/plain": [
       "230"
      ]
     },
     "execution_count": 96,
     "metadata": {},
     "output_type": "execute_result"
    }
   ],
   "source": [
    "# Ejercicio 5: Crea una clase llamda Electrodomestico, que tendrá los siguientes atributos: precio, color, consumo_energetico y peso.\n",
    "# Los atributos precio y peso deben tener valores por defecto de 100 y 5 respectivamente.\n",
    "# La clase tendrá un método llamado precio_final que calculará el precio final del electrodoméstico.\n",
    "\n",
    "class Electrodomestico:\n",
    "    def __init__(self, color, consumo_energetico, precio = 100, peso = 5):\n",
    "        self.precio = precio\n",
    "        self.color = color\n",
    "        self.consumo_energetico = consumo_energetico\n",
    "        self.peso = peso\n",
    "\n",
    "    def precio_final(self):\n",
    "        incremento_precio = {\n",
    "            'negro': 30,\n",
    "            'blanco': 0,\n",
    "            'A': 50,\n",
    "            'B': 20,\n",
    "            'C': 0\n",
    "        }\n",
    "\n",
    "        if self.consumo_energetico in incremento_precio:\n",
    "            incremento_consumo = incremento_precio[self.consumo_energetico]\n",
    "        else:\n",
    "            incremento_consumo = 0\n",
    "\n",
    "        if self.color in incremento_precio:\n",
    "            incremento_color = incremento_precio[self.color]\n",
    "        else:\n",
    "            incremento_color = 0\n",
    "\n",
    "        precio_final = self.precio + incremento_consumo + incremento_color      \n",
    "\n",
    "        # incremento_consumo = incremento_precio.get(self.consumo_energetico, 0)\n",
    "        # incremento_color = incremento_precio.get(self.color, 0)\n",
    "        # precio_final = self.precio + incremento_consumo + incremento_color\n",
    "\n",
    "        return precio_final\n",
    "\n",
    "\n",
    "electrodomestico2 = Electrodomestico(\"negro\", \"A\", precio=150, peso=5)\n",
    "electrodomestico2.precio_final()\n"
   ]
  },
  {
   "cell_type": "code",
   "execution_count": null,
   "metadata": {},
   "outputs": [],
   "source": [
    "class Electrodomestico:\n",
    "    # constructor\n",
    "    def __init__(self, color, consumo_energetico, peso=5, precio=100):\n",
    "        self.precio = precio\n",
    "        self.color = color\n",
    "        self.consumo_energetico = consumo_energetico\n",
    "        self.peso = peso\n",
    "\n",
    "    def precio_final(self):\n",
    "        # precio final sobre el consumo\n",
    "        if self.consumo_energetico == \"A\":\n",
    "            self.precio += 50\n",
    "        elif self.consumo_energetico == \"B\":\n",
    "            self.precio += 60\n",
    "        elif self.consumo_energetico == \"C\":\n",
    "            self.precio += 70\n",
    "        # precio final sobre el peso\n",
    "        if self.peso >= 5 and self.peso < 7:\n",
    "            self.precio += 30\n",
    "        elif self.peso >= 7 and self.peso < 10:\n",
    "            self.precio += 40\n",
    "        elif self.peso >= 10 and self.peso < 15:\n",
    "            self.precio += 50\n",
    "\n",
    "        return self.precio\n",
    "\n",
    "electrodomestico1 = Electrodomestico(\"blanco\", \"A\")\n",
    "electrodomestico1.peso = 13\n",
    "print(electrodomestico1.precio_final())"
   ]
  }
 ],
 "metadata": {
  "kernelspec": {
   "display_name": "Python 3",
   "language": "python",
   "name": "python3"
  },
  "language_info": {
   "codemirror_mode": {
    "name": "ipython",
    "version": 3
   },
   "file_extension": ".py",
   "mimetype": "text/x-python",
   "name": "python",
   "nbconvert_exporter": "python",
   "pygments_lexer": "ipython3",
   "version": "3.11.4"
  }
 },
 "nbformat": 4,
 "nbformat_minor": 2
}
