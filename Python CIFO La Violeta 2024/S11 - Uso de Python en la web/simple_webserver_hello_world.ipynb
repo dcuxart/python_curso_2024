{
 "cells": [
  {
   "cell_type": "markdown",
   "metadata": {},
   "source": [
    "### Webserver:\n",
    "\n",
    "Un servidor web (software) es un programa que procesa una aplicación del lado servidor / backend y que gestiona peticiones http que demanda el cliente (cualquier programa que pueda realizar peticiones hettp, el más común el Navegador Web).\n",
    "\n",
    "Con Python podemos crear un servodr web utilizando el módulo integrado http.server. Éste módulo proporciona proporciona clases base para implementar este servidor.\n",
    "\n",
    "Este ejemplo es un servidor web simple que un cliente (puede ser un navegador) si realiza una petición a esta ruta: \"http://localhost:3000\", el servidor devuelve un texto plano: \"Hola mundo!\""
   ]
  },
  {
   "cell_type": "code",
   "execution_count": 2,
   "metadata": {},
   "outputs": [
    {
     "name": "stdout",
     "output_type": "stream",
     "text": [
      "iniciando servidor\n",
      "Servidor Localhost escuchando peticiones por wl puerto 3000\n"
     ]
    }
   ],
   "source": [
    "from http.server import BaseHTTPRequestHandler, HTTPServer\n",
    "# Creamos el servidor: Clase que hereda de BaseHTTPRequestHandler y define el comportamiento del servidor.\n",
    "\n",
    "# Método POST\n",
    "# Recibiremos un dato (str) mediante POST y mediante la extensión \"Thunder Client\" y lo imprimimos en servidor. Después le enviamos un Ok al cliente.\n",
    "\n",
    "\n",
    "\n",
    "class Servidor(BaseHTTPRequestHandler):\n",
    "    # do_GET: método que se ejecuta cuando se recibe una petición GET\n",
    "    # send_response: método que envia una respuesta al cliente\n",
    "    # send_header: método que envía una cabecera HTTP (un conjunto de datos que definen el mensaje) al cliente\n",
    "    # end_headers: método que finaliza las cabeceras HTTP\n",
    "    # wfile: atributo que representa todo el cuerpo del mensaje\n",
    "    # b: prefijo que indica que el texto es de tipo \"bytes\"\n",
    "    def do_GET(self):\n",
    "        self.send_response(200) # 200 código de petición satisfactoria\n",
    "        self.send_header(\"Content-type\", \"text/html\")\n",
    "        self.end_headers()\n",
    "        self.wfile.write(b\"Hola mundo!\")\n",
    "        return\n",
    "\n",
    "\n",
    "# inicia el servidor    \n",
    "def run():\n",
    "    print(\"iniciando servidor\")\n",
    "    server_address = (\"localhost\", 3000)\n",
    "    server = HTTPServer(server_address, Servidor)\n",
    "    print(\"Servidor Localhost escuchando peticiones por wl puerto 3000\")\n",
    "    server.serve_forever()\n",
    "\n",
    "run()\n",
    "\n",
    "# Para comprobar si funciona abrimos un navegador podemos la siguiente dirección."
   ]
  }
 ],
 "metadata": {
  "kernelspec": {
   "display_name": "Python 3",
   "language": "python",
   "name": "python3"
  },
  "language_info": {
   "codemirror_mode": {
    "name": "ipython",
    "version": 3
   },
   "file_extension": ".py",
   "mimetype": "text/x-python",
   "name": "python",
   "nbconvert_exporter": "python",
   "pygments_lexer": "ipython3",
   "version": "3.12.4"
  }
 },
 "nbformat": 4,
 "nbformat_minor": 2
}
