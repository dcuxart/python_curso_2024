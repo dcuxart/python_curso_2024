{
 "cells": [
  {
   "cell_type": "markdown",
   "metadata": {},
   "source": [
    "### Expresiones Regulares"
   ]
  },
  {
   "cell_type": "code",
   "execution_count": 1,
   "metadata": {},
   "outputs": [
    {
     "name": "stdout",
     "output_type": "stream",
     "text": [
      "True\n"
     ]
    }
   ],
   "source": [
    "import re\n",
    "\n",
    "email = \"armand@gmail.com\"\n",
    "# explicación patrón\n",
    "# r: raw string: cadena sin interpretar, para evitar problemas con caracteres de escape\n",
    "# ^: inicio de la cadena\n",
    "# [a-zA-Z0-9_.+-]: Uno o más caracteres alfanuméricos, punto, guión bajo, símbolo más o guión\n",
    "# @: arroba\n",
    "# [a-zA-Z-0-9.]: Lo mismo que el anterior\n",
    "# \\.: punto\n",
    "# [a-zA-Z-0-9.]: Lo mismo que el anterior\n",
    "email_pattern = r\"^[a-zA-Z0-9_.+-]+@[a-zA-Z0-9-]+\\.[a-zA-Z0-9_.+-]+$\"\n",
    "email_match = re.match(email_pattern, email)\n",
    "print(bool(email_match))"
   ]
  },
  {
   "cell_type": "code",
   "execution_count": null,
   "metadata": {},
   "outputs": [],
   "source": [
    "#validaciones:\n",
    "email = mensaje[\"email\"]\n",
    "email_pattern = r\"^[a-zA-Z0-9_.+-]+@[a-zA-Z0-9-]+\\.[a-zA-Z0-9_.+-]+$\"\n",
    "email_match = re.match(email_pattern, email)\n",
    "\n",
    "dni = \"12345678H\"\n",
    "dni_pattern = r\"^\\d{8}[A-Z]$\"\n",
    "# \\d{8}: 8 dígitos\n",
    "#\n",
    "dni_match = re.match(dni_pattern, dni)"
   ]
  }
 ],
 "metadata": {
  "kernelspec": {
   "display_name": "Python 3",
   "language": "python",
   "name": "python3"
  },
  "language_info": {
   "codemirror_mode": {
    "name": "ipython",
    "version": 3
   },
   "file_extension": ".py",
   "mimetype": "text/x-python",
   "name": "python",
   "nbconvert_exporter": "python",
   "pygments_lexer": "ipython3",
   "version": "3.12.0"
  }
 },
 "nbformat": 4,
 "nbformat_minor": 2
}
