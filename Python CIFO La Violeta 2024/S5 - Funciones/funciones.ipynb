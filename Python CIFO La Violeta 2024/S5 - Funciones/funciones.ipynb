{
 "cells": [
  {
   "cell_type": "code",
   "execution_count": 1,
   "metadata": {},
   "outputs": [
    {
     "ename": "TypeError",
     "evalue": "loginUsername() missing 2 required positional arguments: 'username_input' and 'password_input'",
     "output_type": "error",
     "traceback": [
      "\u001b[1;31m---------------------------------------------------------------------------\u001b[0m",
      "\u001b[1;31mTypeError\u001b[0m                                 Traceback (most recent call last)",
      "\u001b[1;32mc:\\Users\\Alumne_mati1\\Desktop\\CIFO La Violeta - Programació amb Python\\S5 - Funciones\\funciones.ipynb Cell 1\u001b[0m line \u001b[0;36m1\n\u001b[0;32m     <a href='vscode-notebook-cell:/c%3A/Users/Alumne_mati1/Desktop/CIFO%20La%20Violeta%20-%20Programaci%C3%B3%20amb%20Python/S5%20-%20Funciones/funciones.ipynb#W0sZmlsZQ%3D%3D?line=10'>11</a>\u001b[0m     \u001b[39mif\u001b[39;00m password_input \u001b[39m==\u001b[39m password_database:\n\u001b[0;32m     <a href='vscode-notebook-cell:/c%3A/Users/Alumne_mati1/Desktop/CIFO%20La%20Violeta%20-%20Programaci%C3%B3%20amb%20Python/S5%20-%20Funciones/funciones.ipynb#W0sZmlsZQ%3D%3D?line=11'>12</a>\u001b[0m         \u001b[39mprint\u001b[39m(\u001b[39mf\u001b[39m\u001b[39m\"\u001b[39m\u001b[39mHello, \u001b[39m\u001b[39m{\u001b[39;00mlogin_database\u001b[39m}\u001b[39;00m\u001b[39m!\u001b[39m\u001b[39m\"\u001b[39m)\n\u001b[1;32m---> <a href='vscode-notebook-cell:/c%3A/Users/Alumne_mati1/Desktop/CIFO%20La%20Violeta%20-%20Programaci%C3%B3%20amb%20Python/S5%20-%20Funciones/funciones.ipynb#W0sZmlsZQ%3D%3D?line=13'>14</a>\u001b[0m loginUsername()\n",
      "\u001b[1;31mTypeError\u001b[0m: loginUsername() missing 2 required positional arguments: 'username_input' and 'password_input'"
     ]
    }
   ],
   "source": [
    "# Ejercicio 1: Simular un login en una función.\n",
    "\n",
    "def loginUsername(username_input, password_input):\n",
    "    username_input = input(\"Introduce tu usuario: \")\n",
    "    login_database = \"david@gmail.com\"\n",
    "    password_database = \"12345\"\n",
    "\n",
    "    if username_input == login_database:\n",
    "        password_input = input(\"Introduce tu contraseña: \")\n",
    "    \n",
    "    if password_input == password_database:\n",
    "        print(f\"Hello, {login_database}!\")\n",
    "\n",
    "loginUsername()"
   ]
  },
  {
   "cell_type": "code",
   "execution_count": 7,
   "metadata": {},
   "outputs": [
    {
     "name": "stdout",
     "output_type": "stream",
     "text": [
      "11 es primo\n"
     ]
    }
   ],
   "source": [
    "# Ejercicio 2: Detectar si un número es primo o no en una función.\n",
    "\n",
    "def isPrime(num):\n",
    "    i = 2\n",
    "\n",
    "    while i < num:\n",
    "        if num % i == 0:\n",
    "            print(num, 'no es primo')\n",
    "            break\n",
    "        i += 1\n",
    "    else:\n",
    "        print(num, 'es primo')\n",
    "\n",
    "num = 11\n",
    "\n",
    "isPrime(num)"
   ]
  },
  {
   "cell_type": "code",
   "execution_count": 5,
   "metadata": {},
   "outputs": [
    {
     "data": {
      "text/plain": [
       "[2, 3, 5, 7, 11, 13, 17, 19]"
      ]
     },
     "execution_count": 5,
     "metadata": {},
     "output_type": "execute_result"
    }
   ],
   "source": [
    "# Ejercicio 3: Escribe los números primos que hay en un rango de números en una función.\n",
    "\n",
    "def isPrimeRange(nums):\n",
    "\n",
    "    primes = []\n",
    "\n",
    "    for num in nums:\n",
    "        if num < 2:\n",
    "            continue\n",
    "        i = 2\n",
    "        while i < num:\n",
    "            if num % i == 0:\n",
    "                break\n",
    "            i += 1\n",
    "        else:\n",
    "            primes.append(num)\n",
    "\n",
    "    return primes\n",
    "\n",
    "nums = range(20)\n",
    "\n",
    "isPrimeRange(nums)"
   ]
  }
 ],
 "metadata": {
  "kernelspec": {
   "display_name": "Python 3",
   "language": "python",
   "name": "python3"
  },
  "language_info": {
   "codemirror_mode": {
    "name": "ipython",
    "version": 3
   },
   "file_extension": ".py",
   "mimetype": "text/x-python",
   "name": "python",
   "nbconvert_exporter": "python",
   "pygments_lexer": "ipython3",
   "version": "3.12.4"
  }
 },
 "nbformat": 4,
 "nbformat_minor": 2
}
