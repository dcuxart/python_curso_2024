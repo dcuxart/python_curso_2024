{
 "cells": [
  {
   "cell_type": "code",
   "execution_count": 2,
   "metadata": {},
   "outputs": [
    {
     "data": {
      "text/plain": [
       "7"
      ]
     },
     "execution_count": 2,
     "metadata": {},
     "output_type": "execute_result"
    }
   ],
   "source": [
    "# Ejercicio 1: Escribe una función que reciba dos números y devuelva el mayor de los dos.\n",
    "\n",
    "def isGreater(num1, num2):\n",
    "    if num1 > num2:\n",
    "        return num1\n",
    "    else:\n",
    "        return num2\n",
    "\n",
    "num1 = 4\n",
    "num2 = 7\n",
    "\n",
    "isGreater(num1, num2)"
   ]
  },
  {
   "cell_type": "code",
   "execution_count": 4,
   "metadata": {},
   "outputs": [
    {
     "data": {
      "text/plain": [
       "4"
      ]
     },
     "execution_count": 4,
     "metadata": {},
     "output_type": "execute_result"
    }
   ],
   "source": [
    "# Ejercicio 2: Escribe una función que reciba dos números y devuelva el menor de los dos.\n",
    "\n",
    "def isLess(num1, num2):\n",
    "    if num1 > num2:\n",
    "        return num2\n",
    "    else:\n",
    "        return num1\n",
    "    \n",
    "num1 = 4\n",
    "num2 = 7\n",
    "\n",
    "isLess(num1, num2)"
   ]
  },
  {
   "cell_type": "code",
   "execution_count": 8,
   "metadata": {},
   "outputs": [
    {
     "data": {
      "text/plain": [
       "True"
      ]
     },
     "execution_count": 8,
     "metadata": {},
     "output_type": "execute_result"
    }
   ],
   "source": [
    "# Ejercicio 3: Escribe una función que reciba un número y devuelva True si es par y False si es impar.\n",
    "\n",
    "def isEven(num):\n",
    "    if num % 2 == 0:\n",
    "        return True\n",
    "    else:\n",
    "        return False\n",
    "    \n",
    "num = 8\n",
    "isEven(num)"
   ]
  },
  {
   "cell_type": "code",
   "execution_count": 7,
   "metadata": {},
   "outputs": [
    {
     "data": {
      "text/plain": [
       "True"
      ]
     },
     "execution_count": 7,
     "metadata": {},
     "output_type": "execute_result"
    }
   ],
   "source": [
    "# Ejercicio 4: Escribe una función que reciba un número y devuelva True si es impar y False si es par.\n",
    "\n",
    "def isOdd(num):\n",
    "    if num % 2 == 1:\n",
    "        return True\n",
    "    else:\n",
    "        return False\n",
    "    \n",
    "num = 7\n",
    "isOdd(num)"
   ]
  },
  {
   "cell_type": "code",
   "execution_count": 11,
   "metadata": {},
   "outputs": [
    {
     "data": {
      "text/plain": [
       "True"
      ]
     },
     "execution_count": 11,
     "metadata": {},
     "output_type": "execute_result"
    }
   ],
   "source": [
    "# Ejercicio 5: Escribe una función que reciba un número y devuelva True si es positivo y False si es negativo.\n",
    "\n",
    "def isPositive(num):\n",
    "    if num >= 0:\n",
    "        return True\n",
    "    else:\n",
    "        return False\n",
    "\n",
    "num = 7\n",
    "isPositive(num)"
   ]
  },
  {
   "cell_type": "code",
   "execution_count": 14,
   "metadata": {},
   "outputs": [
    {
     "data": {
      "text/plain": [
       "True"
      ]
     },
     "execution_count": 14,
     "metadata": {},
     "output_type": "execute_result"
    }
   ],
   "source": [
    "# Ejercicio 6: Escribe una función que reciba un número y devuelva True si es negativo y False si es positivo.\n",
    "\n",
    "def isNegative(num):\n",
    "    if num < 0:\n",
    "        return True\n",
    "    else:\n",
    "        return False\n",
    "\n",
    "num = -7\n",
    "isNegative(num)"
   ]
  },
  {
   "cell_type": "code",
   "execution_count": 15,
   "metadata": {},
   "outputs": [
    {
     "data": {
      "text/plain": [
       "True"
      ]
     },
     "execution_count": 15,
     "metadata": {},
     "output_type": "execute_result"
    }
   ],
   "source": [
    "# Ejercicio 7: Escribe una función que reciba un número y devuelva True si es cero y False si no lo es.\n",
    "\n",
    "def isZero(num):\n",
    "    if num == 0:\n",
    "        return True\n",
    "    else:\n",
    "        return False\n",
    "\n",
    "num = 0\n",
    "isZero(num)"
   ]
  },
  {
   "cell_type": "code",
   "execution_count": 30,
   "metadata": {},
   "outputs": [
    {
     "data": {
      "text/plain": [
       "True"
      ]
     },
     "execution_count": 30,
     "metadata": {},
     "output_type": "execute_result"
    }
   ],
   "source": [
    "# Ejercicio 8: Escribe una función que reciba un número y devuelva True si es entero y False si no lo es.\n",
    "\n",
    "def isInteger(num):\n",
    "    if type(num) == int:\n",
    "        return True\n",
    "    else:\n",
    "        return False\n",
    "\n",
    "num = 5\n",
    "\n",
    "isInteger(num)"
   ]
  },
  {
   "cell_type": "code",
   "execution_count": 32,
   "metadata": {},
   "outputs": [
    {
     "data": {
      "text/plain": [
       "True"
      ]
     },
     "execution_count": 32,
     "metadata": {},
     "output_type": "execute_result"
    }
   ],
   "source": [
    "# Ejercicio 9: Escribe una función que reciba un número y devuelva True si es decimal y False si no lo es.\n",
    "\n",
    "def isFloat(num):\n",
    "    if type(num) == float:\n",
    "        return True\n",
    "    else:\n",
    "        return False\n",
    "\n",
    "num = 5.5\n",
    "\n",
    "isFloat(num)"
   ]
  },
  {
   "cell_type": "code",
   "execution_count": 34,
   "metadata": {},
   "outputs": [
    {
     "data": {
      "text/plain": [
       "True"
      ]
     },
     "execution_count": 34,
     "metadata": {},
     "output_type": "execute_result"
    }
   ],
   "source": [
    "# Ejercicio 10: Escribe una función que reciba un número y devuelva True si es positivo y decimal y False si no lo es.\n",
    "\n",
    "def isPositiveAndFloat(num):\n",
    "    if type(num) == float and num >= 0:\n",
    "        return True\n",
    "    else:\n",
    "        return False\n",
    "    \n",
    "num = 5.6\n",
    "\n",
    "isPositiveAndFloat(num)"
   ]
  },
  {
   "cell_type": "code",
   "execution_count": 35,
   "metadata": {},
   "outputs": [
    {
     "data": {
      "text/plain": [
       "True"
      ]
     },
     "execution_count": 35,
     "metadata": {},
     "output_type": "execute_result"
    }
   ],
   "source": [
    "# Ejercicio 11: Escribe una función que reciba un número y devuelva True si es negativo y decimal y False si no lo es.\n",
    "\n",
    "def isNegativeAndFloat(num):\n",
    "    if num < 0 and type(num) == float:\n",
    "        return True\n",
    "    else:\n",
    "        return False\n",
    "\n",
    "num = -7.6\n",
    "\n",
    "isNegativeAndFloat(num)"
   ]
  },
  {
   "cell_type": "code",
   "execution_count": 39,
   "metadata": {},
   "outputs": [
    {
     "data": {
      "text/plain": [
       "True"
      ]
     },
     "execution_count": 39,
     "metadata": {},
     "output_type": "execute_result"
    }
   ],
   "source": [
    "# Ejercicio 12: Escribe una función que reciba un número y devuelva True si es positivo y entero y False si no lo es.\n",
    "\n",
    "def isPositiveAndInteger(num):\n",
    "    if num >= 0 and type(num) == int:\n",
    "        return True\n",
    "    else:\n",
    "        return False\n",
    "\n",
    "num = 7\n",
    "\n",
    "isPositiveAndInteger(num)\n"
   ]
  },
  {
   "cell_type": "code",
   "execution_count": 53,
   "metadata": {},
   "outputs": [
    {
     "data": {
      "text/plain": [
       "True"
      ]
     },
     "execution_count": 53,
     "metadata": {},
     "output_type": "execute_result"
    }
   ],
   "source": [
    "# Ejercicio 13: Escribe una función que reciba un número y devuelva True si es negativo y entero y False si no lo es.\n",
    "\n",
    "def isNegativeAndInteger(num):\n",
    "    if num < 0 and type(num) == int:\n",
    "        return True\n",
    "    else:\n",
    "        return False\n",
    "\n",
    "num = -7\n",
    "\n",
    "isNegativeAndInteger(num)"
   ]
  },
  {
   "cell_type": "code",
   "execution_count": 43,
   "metadata": {},
   "outputs": [
    {
     "data": {
      "text/plain": [
       "True"
      ]
     },
     "execution_count": 43,
     "metadata": {},
     "output_type": "execute_result"
    }
   ],
   "source": [
    "# Ejercicio 14: Escribe una función que reciba un número y devuelva True si es positivo y entero o decimal y False si no lo es.\n",
    "\n",
    "def isPositiveAndIntegerOrFloat(num):\n",
    "    if num >= 0 and type(num) == int or type(num) == float:\n",
    "        return True\n",
    "    else:\n",
    "        return False\n",
    "\n",
    "num = 7\n",
    "\n",
    "isPositiveAndIntegerOrFloat(num)"
   ]
  },
  {
   "cell_type": "code",
   "execution_count": 45,
   "metadata": {},
   "outputs": [
    {
     "data": {
      "text/plain": [
       "True"
      ]
     },
     "execution_count": 45,
     "metadata": {},
     "output_type": "execute_result"
    }
   ],
   "source": [
    "# Ejercicio 15: Escribe una función que reciba un número y devuelva True si es negativo y entero o decimal\n",
    "# y False si no lo es.\n",
    "\n",
    "def isNegativeAndIntegerOrFloat(num):\n",
    "    if num < 0 and type(num) == int or type(num) == float:\n",
    "        return True\n",
    "    else:\n",
    "        return False\n",
    "\n",
    "num = -7.1\n",
    "\n",
    "isNegativeAndIntegerOrFloat(num)\n"
   ]
  },
  {
   "cell_type": "code",
   "execution_count": 55,
   "metadata": {},
   "outputs": [
    {
     "data": {
      "text/plain": [
       "True"
      ]
     },
     "execution_count": 55,
     "metadata": {},
     "output_type": "execute_result"
    }
   ],
   "source": [
    "# Ejercicio 16: Escribe una función que reciba un número y devuelva True si es entero o decimal y False\n",
    "# si no lo es.\n",
    "\n",
    "def isIntegerAndFloat(num):\n",
    "    if type(num) == int or type(num) == float:\n",
    "        return True\n",
    "    else:\n",
    "        return False\n",
    "\n",
    "num = 7.7\n",
    "\n",
    "isIntegerAndFloat(num)\n"
   ]
  },
  {
   "cell_type": "markdown",
   "metadata": {},
   "source": [
    "### Mas complejos"
   ]
  },
  {
   "cell_type": "code",
   "execution_count": 1,
   "metadata": {},
   "outputs": [
    {
     "data": {
      "text/plain": [
       "{'el': 3,\n",
       " 'rapido': 1,\n",
       " 'zorro': 1,\n",
       " 'marron': 1,\n",
       " 'salta': 1,\n",
       " 'sobre': 1,\n",
       " 'perro': 2,\n",
       " 'perezoso': 1,\n",
       " 'no': 1,\n",
       " 'estaba': 1,\n",
       " 'listo': 1,\n",
       " 'para': 1,\n",
       " 'eso': 1}"
      ]
     },
     "execution_count": 1,
     "metadata": {},
     "output_type": "execute_result"
    }
   ],
   "source": [
    "# Ejercicio 1: Escribe una función countWords() que reciba una cadena de texto y devuelva un diccionario\n",
    "# con el conteo de cada palabra en el texto.\n",
    "\n",
    "import string\n",
    "\n",
    "def countWords(texto):\n",
    "    # import string # También puede ser incluido dentro de la función.\n",
    "    count = {}\n",
    "    texto = texto.split()\n",
    "\n",
    "    for word in texto:\n",
    "        word = word.lower()\n",
    "        word = word.translate(str.maketrans(\"áéíóú\", \"aeiou\", string.punctuation))\n",
    "        # if word in count:\n",
    "        #     count[word] += 1\n",
    "        # else:\n",
    "        #     count[word] = 1\n",
    "        count[word] = count.get(word, 0) + 1\n",
    "\n",
    "    return count\n",
    "\n",
    "texto = \"El rápido zorro marrón salta sobre el perro perezoso. El perro no estaba listo para eso.\"\n",
    "\n",
    "countWords(texto)"
   ]
  },
  {
   "cell_type": "code",
   "execution_count": 60,
   "metadata": {},
   "outputs": [
    {
     "data": {
      "text/plain": [
       "{'e': 10,\n",
       " 'l': 5,\n",
       " 'r': 12,\n",
       " 'a': 8,\n",
       " 'p': 5,\n",
       " 'i': 2,\n",
       " 'd': 1,\n",
       " 'o': 12,\n",
       " 'z': 2,\n",
       " 'm': 1,\n",
       " 'n': 2,\n",
       " 's': 6,\n",
       " 't': 3,\n",
       " 'b': 2,\n",
       " '': 2}"
      ]
     },
     "execution_count": 60,
     "metadata": {},
     "output_type": "execute_result"
    }
   ],
   "source": [
    "# Ejercicio 2: Esribe una función characterFrequency() que reciba una cadena de texto y devuelva un\n",
    "# diccionario con el conteo de cada caracter en el texto.\n",
    "\n",
    "import string\n",
    "\n",
    "def characterFrequency(texto):\n",
    "    count = {}\n",
    "    texto = texto.split()\n",
    "\n",
    "    for word in texto:\n",
    "            for char in word:\n",
    "                char = char.lower()\n",
    "                char = char.translate(str.maketrans(\"áéíóú\", \"aeiou\", string.punctuation))\n",
    "                # if char in count:\n",
    "                #      count[char] += 1\n",
    "                # else:\n",
    "                #      count[char] = 1\n",
    "                count[char] = count.get(char, 0) + 1\n",
    "\n",
    "    return count\n",
    "\n",
    "texto = \"El rápido zorro marrón salta sobre el perro perezoso. El perro no estaba listo para eso.\"\n",
    "\n",
    "characterFrequency(texto)\n"
   ]
  },
  {
   "cell_type": "code",
   "execution_count": 12,
   "metadata": {},
   "outputs": [
    {
     "data": {
      "text/plain": [
       "{2: ['el', 'el', 'el', 'no'],\n",
       " 6: ['rapido', 'marron', 'estaba'],\n",
       " 5: ['zorro', 'salta', 'sobre', 'perro', 'perro', 'listo'],\n",
       " 8: ['perezoso'],\n",
       " 4: ['para'],\n",
       " 3: ['eso']}"
      ]
     },
     "execution_count": 12,
     "metadata": {},
     "output_type": "execute_result"
    }
   ],
   "source": [
    "# Ejercicio 3: Escribe una función wordAnalysis() que reciba una cadena de texto y devuelva un diccionario\n",
    "# con la longitud de cada palabra como clave y la lista de palabras de esa longitud como valor.\n",
    "\n",
    "import string\n",
    "\n",
    "def wordAnalysis(texto):\n",
    "    count = {}\n",
    "    texto = texto.split()\n",
    "\n",
    "    for word in texto:\n",
    "        word = word.lower()\n",
    "        word = word.translate(str.maketrans(\"áéíóú\", \"aeiou\", string.punctuation))\n",
    "        if len(word) in count:\n",
    "            count[len(word)].append(word)\n",
    "        else:\n",
    "            count[len(word)] = [word]\n",
    "\n",
    "    return count\n",
    "\n",
    "texto = \"El rápido zorro marrón salta sobre el perro perezoso. El perro no estaba listo para eso.\"\n",
    "\n",
    "wordAnalysis(texto)"
   ]
  },
  {
   "cell_type": "code",
   "execution_count": 3,
   "metadata": {},
   "outputs": [
    {
     "data": {
      "text/plain": [
       "{'vowels': 34, 'consonants': 39}"
      ]
     },
     "execution_count": 3,
     "metadata": {},
     "output_type": "execute_result"
    }
   ],
   "source": [
    "# Ejercicio 4: Escribe una función countVowelsAndConsonants() que reciba una cadena de texto y devuelve\n",
    "# un diccionario con el conteo de vocales y consonantes en el texto.\n",
    "\n",
    "import string\n",
    "\n",
    "def countVowelsAndConsonants(texto):\n",
    "    count = {'vowels': 0, 'consonants': 0}\n",
    "    texto = texto.split()\n",
    "\n",
    "    for word in texto:\n",
    "        for char in word:\n",
    "            char = char.lower()\n",
    "            char = char.translate(str.maketrans(\"áéíóú\", \"aeiou\", string.punctuation))\n",
    "            if char in 'aeiou':\n",
    "                count['vowels'] += 1\n",
    "            else:\n",
    "                count['consonants'] += 1\n",
    "\n",
    "    return count\n",
    "\n",
    "texto = \"El rápido zorro marrón salta sobre el perro perezoso. El perro no estaba listo para eso.\"\n",
    "\n",
    "countVowelsAndConsonants(texto)"
   ]
  }
 ],
 "metadata": {
  "kernelspec": {
   "display_name": "Python 3",
   "language": "python",
   "name": "python3"
  },
  "language_info": {
   "codemirror_mode": {
    "name": "ipython",
    "version": 3
   },
   "file_extension": ".py",
   "mimetype": "text/x-python",
   "name": "python",
   "nbconvert_exporter": "python",
   "pygments_lexer": "ipython3",
   "version": "3.12.4"
  }
 },
 "nbformat": 4,
 "nbformat_minor": 2
}
