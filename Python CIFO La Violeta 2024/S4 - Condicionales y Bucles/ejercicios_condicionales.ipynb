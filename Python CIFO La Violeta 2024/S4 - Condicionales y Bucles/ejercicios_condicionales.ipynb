{
 "cells": [
  {
   "cell_type": "code",
   "execution_count": 5,
   "metadata": {},
   "outputs": [],
   "source": [
    "# Ejercicio 1: Escribe un programa que pida al usuario un número entero e imprima si es positivo, negativo o cero:\n",
    "\n",
    "# numero = int(input(\"Introduce un número entero: \"))\n",
    "\n",
    "numero = 10\n",
    "\n",
    "if numero > 0:\n",
    "    print('El número', numero, 'es positivo')\n",
    "elif numero < 0:\n",
    "    print('El número', numero, 'es negativo')\n",
    "else:\n",
    "    print('El número', numero, 'es cero')"
   ]
  },
  {
   "cell_type": "code",
   "execution_count": 1,
   "metadata": {},
   "outputs": [
    {
     "name": "stdout",
     "output_type": "stream",
     "text": [
      "No pasar.\n"
     ]
    }
   ],
   "source": [
    "# Ejercicio 2: Introducir el color del semáforo y mostrar si puede pasar, extremar la precaución o no pasar.\n",
    "\n",
    "color = 'rojo'\n",
    "color = color.lower()\n",
    "\n",
    "if color == 'rojo':\n",
    "    print('No pasar.')\n",
    "elif color == 'ambar':\n",
    "    print('Precaución.')\n",
    "elif color == 'verde':\n",
    "    print('Pasar.')\n",
    "else:\n",
    "    print('Color erróneo.')"
   ]
  },
  {
   "cell_type": "code",
   "execution_count": 2,
   "metadata": {},
   "outputs": [
    {
     "name": "stdout",
     "output_type": "stream",
     "text": [
      "El número 3 es impar\n"
     ]
    }
   ],
   "source": [
    "# Ejercicio 3: Mostrar si un número es par o impar:\n",
    "\n",
    "numero = 3\n",
    "\n",
    "if numero % 2 == 0:\n",
    "    print('El número', numero, 'es par')\n",
    "else:\n",
    "    print('El número', numero, 'es impar')"
   ]
  },
  {
   "cell_type": "code",
   "execution_count": 7,
   "metadata": {},
   "outputs": [
    {
     "name": "stdout",
     "output_type": "stream",
     "text": [
      "True\n"
     ]
    }
   ],
   "source": [
    "# Ejercicio 4: Introducir 3 números. Indicar si el tercero es la usma de los dos primeros o no.\n",
    "\n",
    "numeros = [1, 2, 3]\n",
    "\n",
    "if numeros[2] == numeros[0] + numeros[1]:\n",
    "    print(True)\n",
    "else:\n",
    "    print(False)"
   ]
  },
  {
   "cell_type": "code",
   "execution_count": 8,
   "metadata": {},
   "outputs": [
    {
     "name": "stdout",
     "output_type": "stream",
     "text": [
      "2\n"
     ]
    }
   ],
   "source": [
    "# Ejercicio 5: introducir un precio a pagar y el dinero disponible y mostrar si le falta dinero, indicarle cuánto, si le sobra indicar cuánto y si está justo mostrar 'Gracias por la compra'.\n",
    "\n",
    "importe = 10\n",
    "pagar = 8\n",
    "\n",
    "if importe > pagar:\n",
    "    sobra = importe - pagar\n",
    "    print(sobra)\n",
    "elif importe < pagar:\n",
    "    falta = pagar - importe\n",
    "    print(falta)\n",
    "else:\n",
    "    print('Gracias por la compra')"
   ]
  },
  {
   "cell_type": "code",
   "execution_count": 10,
   "metadata": {},
   "outputs": [
    {
     "data": {
      "text/plain": [
       "[7, 5, 2]"
      ]
     },
     "execution_count": 10,
     "metadata": {},
     "output_type": "execute_result"
    }
   ],
   "source": [
    "# Ejercicio 6: Introducir 3 números. Ordenar descendentemente:\n",
    "\n",
    "numeros = [2, 7, 5]\n",
    "\n",
    "numeros.sort(reverse=True)\n",
    "\n",
    "numeros"
   ]
  },
  {
   "cell_type": "code",
   "execution_count": 29,
   "metadata": {},
   "outputs": [
    {
     "name": "stdout",
     "output_type": "stream",
     "text": [
      "46407726M\n"
     ]
    }
   ],
   "source": [
    "# Ejercicio 7: Comprobar la letra del DNI. Para calcular la letra divide tu número de DNI entre 23 y el resto es la posición de la lista anterior: Ejemplo: 11223344 % 23 = 8 -> letra \"P\".\n",
    "\n",
    "letras = ['T', 'R', 'W', 'A', 'G', 'M', 'Y', 'F', 'P', 'D', 'X', 'B', 'N', 'J', 'Z', 'S', 'Q', 'V', 'H', 'L', 'C', 'K', 'E']\n",
    "\n",
    "dni_num = '46407726M'\n",
    "\n",
    "if len(dni_num) != 9:\n",
    "    print('DNI incorrecto')\n",
    "else:\n",
    "    digitos = dni_num[:8]\n",
    "    calculo_letra = int(digitos) % 23\n",
    "    print(digitos + letras[calculo_letra])\n",
    "\n",
    "\n"
   ]
  }
 ],
 "metadata": {
  "kernelspec": {
   "display_name": "Python 3",
   "language": "python",
   "name": "python3"
  },
  "language_info": {
   "codemirror_mode": {
    "name": "ipython",
    "version": 3
   },
   "file_extension": ".py",
   "mimetype": "text/x-python",
   "name": "python",
   "nbconvert_exporter": "python",
   "pygments_lexer": "ipython3",
   "version": "3.12.4"
  }
 },
 "nbformat": 4,
 "nbformat_minor": 2
}
