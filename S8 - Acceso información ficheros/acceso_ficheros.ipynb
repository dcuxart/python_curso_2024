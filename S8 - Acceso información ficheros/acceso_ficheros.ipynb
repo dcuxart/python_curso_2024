{
 "cells": [
  {
   "cell_type": "markdown",
   "metadata": {},
   "source": [
    "Crear y escribir en un archivo de texto (en la carpeta raíz del pryecto)."
   ]
  },
  {
   "cell_type": "code",
   "execution_count": 32,
   "metadata": {},
   "outputs": [],
   "source": [
    "with open('saludo.txt', 'w') as file:\n",
    "    file.write(\"Hola mundo\\n\")\n",
    "    file.write(\"Adiós mundo\")"
   ]
  },
  {
   "cell_type": "markdown",
   "metadata": {},
   "source": [
    "Crear y escribir en un archivo de texto (en carpeta creada manualmente dentro de una subcarpeta)."
   ]
  },
  {
   "cell_type": "code",
   "execution_count": 31,
   "metadata": {},
   "outputs": [],
   "source": [
    "with open(\"archivos/saludo.txt\", \"w\") as file:\n",
    "    file.write(\"Hola mundo\\n\")\n",
    "    file.write(\"Adiós mundo\")"
   ]
  },
  {
   "cell_type": "markdown",
   "metadata": {},
   "source": [
    "Crear y escribir en un archivo de texto (en una carpeta creada desde Python)."
   ]
  },
  {
   "cell_type": "code",
   "execution_count": 33,
   "metadata": {},
   "outputs": [],
   "source": [
    "import os\n",
    "\n",
    "os.makedirs('archivos_python', exist_ok = True)\n",
    "with open(\"archivos/saludo.txt\", \"w\") as file:\n",
    "    file.write(\"Hola mundo\\n\")\n",
    "    file.write(\"Adiós mundo\")"
   ]
  },
  {
   "cell_type": "markdown",
   "metadata": {},
   "source": [
    "Abrir y leer un archivo de texto."
   ]
  },
  {
   "cell_type": "code",
   "execution_count": 34,
   "metadata": {},
   "outputs": [
    {
     "name": "stdout",
     "output_type": "stream",
     "text": [
      "Hola mundo\n",
      "Adiós mundo\n"
     ]
    }
   ],
   "source": [
    "with open('saludo.txt', 'r') as file:\n",
    "    content = file.read()\n",
    "    print(content)"
   ]
  },
  {
   "cell_type": "markdown",
   "metadata": {},
   "source": [
    "Eliminar un archivo."
   ]
  },
  {
   "cell_type": "code",
   "execution_count": 35,
   "metadata": {},
   "outputs": [],
   "source": [
    "import os\n",
    "\n",
    "os.remove('saludo.txt')"
   ]
  },
  {
   "cell_type": "markdown",
   "metadata": {},
   "source": [
    "Comoprobar si un archivo existe."
   ]
  },
  {
   "cell_type": "code",
   "execution_count": 36,
   "metadata": {},
   "outputs": [
    {
     "name": "stdout",
     "output_type": "stream",
     "text": [
      "True\n"
     ]
    }
   ],
   "source": [
    "import os\n",
    "\n",
    "existe = os.path.exists(\"archivos/saludo.txt\")\n",
    "print(existe)"
   ]
  },
  {
   "cell_type": "markdown",
   "metadata": {},
   "source": [
    "Crear, abrir y leer un archivo cvs."
   ]
  },
  {
   "cell_type": "code",
   "execution_count": 47,
   "metadata": {},
   "outputs": [],
   "source": [
    "# Crear\n",
    "\n",
    "import csv\n",
    "\n",
    "with open('archivos_python/datos.csv', 'w', newline='') as file:\n",
    "    writer = csv.writer(file) # Creamos el objeto que nos permite crear contenido csv.\n",
    "    writer.writerow(['nombre', 'ciudad'])\n",
    "    writer.writerow(['Pepe', 'Barcelona'])\n",
    "    writer.writerow(['María', 'Tarragona'])"
   ]
  },
  {
   "cell_type": "code",
   "execution_count": 48,
   "metadata": {},
   "outputs": [
    {
     "name": "stdout",
     "output_type": "stream",
     "text": [
      "ciudad\n",
      "Barcelona\n",
      "Tarragona\n"
     ]
    }
   ],
   "source": [
    "# Leer\n",
    "\n",
    "with open('archivos_python/datos.csv', 'r') as file:\n",
    "    reader = csv.reader(file) # Creamos el objeto que nos permite leer contenido csv.\n",
    "    for row in reader:\n",
    "        # print(row)\n",
    "        print(row[1])\n"
   ]
  },
  {
   "cell_type": "markdown",
   "metadata": {},
   "source": [
    "Crear, abrir y leer un archivo json."
   ]
  },
  {
   "cell_type": "code",
   "execution_count": 49,
   "metadata": {},
   "outputs": [],
   "source": [
    "# Escribir\n",
    "\n",
    "import json\n",
    "\n",
    "data = {\n",
    "    'Nombre' : 'Pepe',\n",
    "    'Ciudad' : 'Barcelona'\n",
    "}\n",
    "\n",
    "with open('archivos_python/datos.json', 'w') as file:\n",
    "    # Conversion de dict -> json\n",
    "    json.dump(data, file)"
   ]
  },
  {
   "cell_type": "code",
   "execution_count": 52,
   "metadata": {},
   "outputs": [
    {
     "name": "stdout",
     "output_type": "stream",
     "text": [
      "<class 'dict'>\n"
     ]
    }
   ],
   "source": [
    "# Leer\n",
    "\n",
    "with open('archivos_python/datos.json', 'r') as file:\n",
    "    datos = json.load(file)\n",
    "    # print(datos)\n",
    "    print(type(datos))"
   ]
  },
  {
   "cell_type": "markdown",
   "metadata": {},
   "source": [
    "Simulación de Database (json) de la biblioteca"
   ]
  },
  {
   "cell_type": "code",
   "execution_count": 57,
   "metadata": {},
   "outputs": [],
   "source": [
    "# Escribir\n",
    "\n",
    "import json\n",
    "\n",
    "librosDB = [{\n",
    "    'ISBN' : '1111111111111',\n",
    "    'Titulo' : 'a',\n",
    "    'Autor' : 'a',\n",
    "    'Genero' : 'a'\n",
    "},{\n",
    "    'ISBN' : '222222222222',\n",
    "    'Titulo' : 'b',\n",
    "    'Autor' : 'b',\n",
    "    'Genero' : 'b'\n",
    "}]\n",
    "\n",
    "with open('archivos_python/librosDB.json', 'w') as file:\n",
    "    # Conversion de dict -> json\n",
    "    json.dump(librosDB, file)"
   ]
  },
  {
   "cell_type": "code",
   "execution_count": 72,
   "metadata": {},
   "outputs": [
    {
     "name": "stdout",
     "output_type": "stream",
     "text": [
      "El libro existe\n"
     ]
    }
   ],
   "source": [
    "# Validar si existe un título de un libro enla Database\n",
    "\n",
    "with open('archivos_python/librosDB.json', 'r') as file:\n",
    "    librosDB = json.load(file)\n",
    "    for libro in librosDB:\n",
    "        if libro['Titulo'] == 'a':\n",
    "            print(f\"El libro existe\")\n",
    "            break\n",
    "    # print(type(datos))"
   ]
  }
 ],
 "metadata": {
  "kernelspec": {
   "display_name": "Python 3",
   "language": "python",
   "name": "python3"
  },
  "language_info": {
   "codemirror_mode": {
    "name": "ipython",
    "version": 3
   },
   "file_extension": ".py",
   "mimetype": "text/x-python",
   "name": "python",
   "nbconvert_exporter": "python",
   "pygments_lexer": "ipython3",
   "version": "3.12.4"
  }
 },
 "nbformat": 4,
 "nbformat_minor": 2
}
