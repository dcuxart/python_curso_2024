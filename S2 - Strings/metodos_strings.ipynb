{
 "cells": [
  {
   "cell_type": "code",
   "execution_count": 1,
   "metadata": {},
   "outputs": [
    {
     "name": "stdout",
     "output_type": "stream",
     "text": [
      "HOLA QUE TAL\n"
     ]
    }
   ],
   "source": [
    "# Ejercicio 1: Mostrar cadena en mayúsculas:\n",
    "cadena = \"Hola que tal\"\n",
    "print(cadena.upper())"
   ]
  },
  {
   "cell_type": "code",
   "execution_count": 2,
   "metadata": {},
   "outputs": [
    {
     "name": "stdout",
     "output_type": "stream",
     "text": [
      "hola que tal\n"
     ]
    }
   ],
   "source": [
    "# Ejercicio 2: Mostrar cadena en minúsculas:\n",
    "cadena = \"Hola que tal\"\n",
    "print(cadena.lower())"
   ]
  },
  {
   "cell_type": "code",
   "execution_count": 3,
   "metadata": {},
   "outputs": [
    {
     "name": "stdout",
     "output_type": "stream",
     "text": [
      "Hola que tal\n"
     ]
    }
   ],
   "source": [
    "# Ejercicio 3: Mostrar cadena con la primera letra en mayúsculas:\n",
    "cadena = \"hola que tal\"\n",
    "print(cadena.capitalize())"
   ]
  },
  {
   "cell_type": "code",
   "execution_count": 4,
   "metadata": {},
   "outputs": [
    {
     "name": "stdout",
     "output_type": "stream",
     "text": [
      "Hola Que Tal\n"
     ]
    }
   ],
   "source": [
    "# Ejercicio 4: Mostrar cadena con la primera letra de cada palabra en mayúsculas:\n",
    "cadena = \"Hola que tal\"\n",
    "print(cadena.title())"
   ]
  },
  {
   "cell_type": "code",
   "execution_count": 5,
   "metadata": {},
   "outputs": [
    {
     "name": "stdout",
     "output_type": "stream",
     "text": [
      "hOLA QUE TAL\n"
     ]
    }
   ],
   "source": [
    "# Ejercicio 5: Mostrar cadena con las mayúsculas convertidas en minúsculas y viceversa:\n",
    "cadena = \"Hola que tal\"\n",
    "print(cadena.swapcase())"
   ]
  },
  {
   "cell_type": "code",
   "execution_count": 6,
   "metadata": {},
   "outputs": [
    {
     "name": "stdout",
     "output_type": "stream",
     "text": [
      "Hola cómo estás\n"
     ]
    }
   ],
   "source": [
    "# Ejercicio 6: Mostrar cadena donde una subcadena es reemplazada por otra subcadena:\n",
    "cadena = \"Hola que tal\"\n",
    "print(cadena.replace(\"que tal\", \"cómo estás\"))"
   ]
  },
  {
   "cell_type": "code",
   "execution_count": 7,
   "metadata": {},
   "outputs": [
    {
     "name": "stdout",
     "output_type": "stream",
     "text": [
      "['Hola', 'que', 'tal']\n"
     ]
    }
   ],
   "source": [
    "# Ejercicio 7: Mostrar lista de palabras a partir de una cadena:\n",
    "cadena = \"Hola que tal\"\n",
    "print(cadena.split())"
   ]
  },
  {
   "cell_type": "code",
   "execution_count": 9,
   "metadata": {},
   "outputs": [
    {
     "name": "stdout",
     "output_type": "stream",
     "text": [
      "Hola que tal\n"
     ]
    }
   ],
   "source": [
    "# Ejercicio 8: Mostrar cadena a partir de una lista de palabras:\n",
    "cadena = ['Hola', 'que', 'tal']\n",
    "print(\" \".join(cadena))"
   ]
  },
  {
   "cell_type": "code",
   "execution_count": 15,
   "metadata": {},
   "outputs": [
    {
     "name": "stdout",
     "output_type": "stream",
     "text": [
      "Hola que tal\n"
     ]
    }
   ],
   "source": [
    "# Ejercicio 9: Mostrar cadena sin espacios en blanco alprincipio y al final:\n",
    "cadena = \"     Hola que tal     \"\n",
    "print(cadena.strip())"
   ]
  },
  {
   "cell_type": "code",
   "execution_count": 17,
   "metadata": {},
   "outputs": [
    {
     "name": "stdout",
     "output_type": "stream",
     "text": [
      "Hola que tal     \n"
     ]
    }
   ],
   "source": [
    "# Ejercicio 10: Mostrar cadena sin espacios en blanco al principio:\n",
    "cadena = \"     Hola que tal     \"\n",
    "print(cadena.lstrip())"
   ]
  },
  {
   "cell_type": "code",
   "execution_count": 16,
   "metadata": {},
   "outputs": [
    {
     "name": "stdout",
     "output_type": "stream",
     "text": [
      "     Hola que tal\n"
     ]
    }
   ],
   "source": [
    "# Ejercicio 11: Mostrar cadena sin espacios en blanco al final:\n",
    "cadena = \"     Hola que tal     \"\n",
    "print(cadena.rstrip())"
   ]
  },
  {
   "cell_type": "code",
   "execution_count": 18,
   "metadata": {},
   "outputs": [
    {
     "name": "stdout",
     "output_type": "stream",
     "text": [
      "True\n"
     ]
    }
   ],
   "source": [
    "# Ejercicio 12: Mostrar True si la cadena comienza con una subcadena:\n",
    "cadena = \"Hola que tal\"\n",
    "print(cadena.startswith(\"Hola\"))"
   ]
  },
  {
   "cell_type": "code",
   "execution_count": 20,
   "metadata": {},
   "outputs": [
    {
     "name": "stdout",
     "output_type": "stream",
     "text": [
      "True\n"
     ]
    }
   ],
   "source": [
    "# Ejercicio 13: Mostrar True si la cadena acaba con una subcadena:\n",
    "cadena = \"Hola que tal\"\n",
    "print(cadena.endswith(\"tal\"))"
   ]
  },
  {
   "cell_type": "code",
   "execution_count": 32,
   "metadata": {},
   "outputs": [
    {
     "name": "stdout",
     "output_type": "stream",
     "text": [
      "5\n"
     ]
    }
   ],
   "source": [
    "# Ejercicio 14: Mostrar la primera posición de una subcadena en una cadena:\n",
    "cadena = \"Hola que tal que\"\n",
    "print(cadena.find(\"que\"))"
   ]
  },
  {
   "cell_type": "code",
   "execution_count": 31,
   "metadata": {},
   "outputs": [
    {
     "name": "stdout",
     "output_type": "stream",
     "text": [
      "13\n"
     ]
    }
   ],
   "source": [
    "# Ejercicio 15: Mostrar la última posición de una subcadena en una cadena:\n",
    "cadena = \"Hola que tal que\"\n",
    "print(cadena.rfind(\"que\"))"
   ]
  },
  {
   "cell_type": "code",
   "execution_count": 2,
   "metadata": {},
   "outputs": [
    {
     "name": "stdout",
     "output_type": "stream",
     "text": [
      "1\n"
     ]
    }
   ],
   "source": [
    "# Ejercicio 16: Mostrar el número de veces que una subcadena aparece en una cadena:\n",
    "cadena = \"Hola que tal\"\n",
    "print(cadena.count(\"que\"))"
   ]
  },
  {
   "cell_type": "code",
   "execution_count": 29,
   "metadata": {},
   "outputs": [
    {
     "name": "stdout",
     "output_type": "stream",
     "text": [
      "True\n"
     ]
    }
   ],
   "source": [
    "# Ejercicio 17: Mostrar True si cadean es alfanumérica:\n",
    "cadena = \"Hola12\"\n",
    "print(cadena.isalnum())"
   ]
  },
  {
   "cell_type": "code",
   "execution_count": 28,
   "metadata": {},
   "outputs": [
    {
     "name": "stdout",
     "output_type": "stream",
     "text": [
      "True\n"
     ]
    }
   ],
   "source": [
    "# Ejercicio 18: Mostrar True si la cadena es alfabética:\n",
    "cadena = \"Hola\"\n",
    "print(cadena.isalpha())"
   ]
  }
 ],
 "metadata": {
  "kernelspec": {
   "display_name": "Python 3",
   "language": "python",
   "name": "python3"
  },
  "language_info": {
   "codemirror_mode": {
    "name": "ipython",
    "version": 3
   },
   "file_extension": ".py",
   "mimetype": "text/x-python",
   "name": "python",
   "nbconvert_exporter": "python",
   "pygments_lexer": "ipython3",
   "version": "3.12.4"
  }
 },
 "nbformat": 4,
 "nbformat_minor": 2
}
