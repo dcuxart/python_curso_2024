{
 "cells": [
  {
   "cell_type": "markdown",
   "metadata": {},
   "source": [
    "### Ejercicios bucle"
   ]
  },
  {
   "cell_type": "code",
   "execution_count": 39,
   "metadata": {},
   "outputs": [
    {
     "name": "stdout",
     "output_type": "stream",
     "text": [
      "1\n",
      "2\n",
      "3\n",
      "4\n",
      "5\n",
      "6\n",
      "7\n",
      "8\n",
      "9\n",
      "10\n"
     ]
    }
   ],
   "source": [
    "# Ejercicio 1: Escribe un programa que imprima los números del 1 al 10 utilizando un bucle while.\n",
    "\n",
    "nums = 0\n",
    "\n",
    "while nums != 10:\n",
    "    nums += 1\n",
    "    print(nums)\n"
   ]
  },
  {
   "cell_type": "code",
   "execution_count": 40,
   "metadata": {},
   "outputs": [
    {
     "name": "stdout",
     "output_type": "stream",
     "text": [
      "1\n",
      "2\n",
      "3\n",
      "4\n",
      "5\n",
      "6\n",
      "7\n",
      "8\n",
      "9\n",
      "10\n"
     ]
    }
   ],
   "source": [
    "# Ejercicio 2: Escribe un programa que imprima los números del 1 al 10 utilizando un bucle for.\n",
    "\n",
    "for i in range(1, 11):\n",
    "    print(i)"
   ]
  },
  {
   "cell_type": "code",
   "execution_count": 41,
   "metadata": {},
   "outputs": [
    {
     "name": "stdout",
     "output_type": "stream",
     "text": [
      "2\n",
      "4\n",
      "6\n",
      "8\n",
      "10\n"
     ]
    }
   ],
   "source": [
    "# Ejercicio 3: Escribe un programa que imprima los números pares del 2 al 10 utilizando un bucle for.\n",
    "\n",
    "for i in range(2, 11, 2):\n",
    "    print(i)"
   ]
  },
  {
   "cell_type": "code",
   "execution_count": 42,
   "metadata": {},
   "outputs": [
    {
     "name": "stdout",
     "output_type": "stream",
     "text": [
      "1\n",
      "3\n",
      "5\n",
      "7\n",
      "9\n"
     ]
    }
   ],
   "source": [
    "# Ejercicio 4: Escribe un programa que imprima los números impares del 1 al 9 utilizando un bucle for.\n",
    "\n",
    "for i in range(1, 11, 2):\n",
    "    print(i)"
   ]
  },
  {
   "cell_type": "code",
   "execution_count": 43,
   "metadata": {},
   "outputs": [
    {
     "name": "stdout",
     "output_type": "stream",
     "text": [
      "10\n",
      "9\n",
      "8\n",
      "7\n",
      "6\n",
      "5\n",
      "4\n",
      "3\n",
      "2\n",
      "1\n"
     ]
    }
   ],
   "source": [
    "# Ejercicio 5: Escribe un programa que imprima los números del 10 al 1 utilizando un bucle while.\n",
    "\n",
    "nums = 11\n",
    "\n",
    "while nums != 1:\n",
    "    nums -= 1\n",
    "    print(nums)"
   ]
  },
  {
   "cell_type": "code",
   "execution_count": 44,
   "metadata": {},
   "outputs": [
    {
     "name": "stdout",
     "output_type": "stream",
     "text": [
      "10\n",
      "9\n",
      "8\n",
      "7\n",
      "6\n",
      "5\n",
      "4\n",
      "3\n",
      "2\n",
      "1\n"
     ]
    }
   ],
   "source": [
    "# Ejercicio 6: Escribe un programa que imprima los números del 10 al 1 utilizando un bucle for.\n",
    "\n",
    "for i in range(10, 0, -1):\n",
    "    print(i)"
   ]
  },
  {
   "cell_type": "code",
   "execution_count": 45,
   "metadata": {},
   "outputs": [
    {
     "name": "stdout",
     "output_type": "stream",
     "text": [
      "1\n",
      "2\n",
      "3\n",
      "4\n",
      "5\n",
      "6\n",
      "7\n",
      "8\n",
      "9\n",
      "10\n",
      "9\n",
      "8\n",
      "7\n",
      "6\n",
      "5\n",
      "4\n",
      "3\n",
      "2\n",
      "1\n"
     ]
    }
   ],
   "source": [
    "# Ejercicio 7: Escribe un programa que imprima los números del 1 al 10 en orden ascendente y descendente\n",
    "# utilizando un solo bucle for.\n",
    "\n",
    "for i in range(1, 20):\n",
    "    if i <= 10:\n",
    "        print(i)\n",
    "    elif i > 10 and i != 20:\n",
    "        i = 20 - i\n",
    "        print(i)\n"
   ]
  },
  {
   "cell_type": "code",
   "execution_count": 46,
   "metadata": {},
   "outputs": [
    {
     "name": "stdout",
     "output_type": "stream",
     "text": [
      "1\n",
      "2\n",
      "3\n",
      "4\n",
      "5\n",
      "6\n",
      "7\n",
      "8\n",
      "9\n",
      "10\n",
      "9\n",
      "8\n",
      "7\n",
      "6\n",
      "5\n",
      "4\n",
      "3\n",
      "2\n",
      "1\n",
      "0\n"
     ]
    }
   ],
   "source": [
    "# Ejercicio 8: Escribe un programa que imprima los números del 1 al 10 en orden ascendente y descendente\n",
    "# utilizando un solo bucle while.\n",
    "\n",
    "i = 1\n",
    "\n",
    "while i <= 20:\n",
    "    if i <= 10:\n",
    "        print(i)\n",
    "    else:\n",
    "        print(20 - i)\n",
    "    i += 1"
   ]
  },
  {
   "cell_type": "code",
   "execution_count": 47,
   "metadata": {},
   "outputs": [
    {
     "name": "stdout",
     "output_type": "stream",
     "text": [
      "1\n",
      "2\n",
      "3\n",
      "4\n",
      "5\n",
      "6\n",
      "7\n",
      "8\n",
      "9\n",
      "10\n",
      "9\n",
      "8\n",
      "7\n",
      "6\n",
      "5\n",
      "4\n",
      "3\n",
      "2\n",
      "1\n"
     ]
    }
   ],
   "source": [
    "# Ejercicio 9: Escribe un programa que imprima los números del 1 al 10 en orden ascendente y descendente\n",
    "# utilizando un solo bucle for y un condicional.\n",
    "\n",
    "for i in range(1, 20):\n",
    "    if i <= 10:\n",
    "        print(i)\n",
    "    else:\n",
    "        print(20 - i)"
   ]
  },
  {
   "cell_type": "code",
   "execution_count": 48,
   "metadata": {},
   "outputs": [
    {
     "name": "stdout",
     "output_type": "stream",
     "text": [
      "0\n",
      "1\n",
      "2\n",
      "3\n",
      "4\n",
      "5\n",
      "6\n",
      "7\n",
      "8\n",
      "9\n",
      "10\n",
      "10\n",
      "9\n",
      "8\n",
      "7\n",
      "6\n",
      "5\n",
      "4\n",
      "3\n",
      "2\n",
      "1\n"
     ]
    }
   ],
   "source": [
    "# Ejercicio 10: Escribe un programa que imprima los números del 1 al 10 en orden ascendente y descendente\n",
    "# utilizando un solo bucle while y un condicional.\n",
    "\n",
    "i = 0\n",
    "\n",
    "while i <= 10:\n",
    "    if i <= 10:\n",
    "        print(i)\n",
    "    else:\n",
    "        print(20 - i)\n",
    "    i += 1\n",
    "\n",
    "nums = 11\n",
    "\n",
    "while nums != 1:\n",
    "    nums -= 1\n",
    "    print(nums)"
   ]
  },
  {
   "cell_type": "code",
   "execution_count": 70,
   "metadata": {},
   "outputs": [
    {
     "name": "stdout",
     "output_type": "stream",
     "text": [
      "9 no es primo\n"
     ]
    }
   ],
   "source": [
    "# Ejercicio extra:\n",
    "\n",
    "# nums = [1,2,3,4,5,6,7]\n",
    "\n",
    "# for i in nums:\n",
    "#     if i / 1 == i and i / i == 1:\n",
    "#         print(i, 'Es primo')\n",
    "#     else:\n",
    "#         print(i, 'no es primo')\n",
    "\n",
    "\n",
    "# numero = [1,2,3,4,5,6,7]\n",
    "\n",
    "numero = 9\n",
    "i = 2\n",
    "\n",
    "while i < numero:\n",
    "    if numero % i == 0:\n",
    "        print(numero, 'no es primo')\n",
    "        break\n",
    "    i += 1\n",
    "else:\n",
    "    print(numero, 'es primo')\n",
    "\n",
    "\n",
    "# if i == numero:\n",
    "#     print(i, 'es primo')"
   ]
  },
  {
   "cell_type": "markdown",
   "metadata": {},
   "source": [
    "### Ejercicios con listas"
   ]
  },
  {
   "cell_type": "code",
   "execution_count": 50,
   "metadata": {},
   "outputs": [
    {
     "name": "stdout",
     "output_type": "stream",
     "text": [
      "1\n",
      "2\n",
      "3\n",
      "4\n",
      "5\n",
      "6\n",
      "7\n",
      "8\n",
      "9\n",
      "10\n"
     ]
    }
   ],
   "source": [
    "# Ejercicio 1 -> Escribe un programa que imprima los elementos de una lista utilizando un bucle for.\n",
    "\n",
    "lista = [1,2,3,4,5,6,7,8,9,10]\n",
    "\n",
    "# for i in range(1, len(lista) + 1):\n",
    "#     print(i)\n",
    "\n",
    "for i in lista:\n",
    "    print(i)"
   ]
  },
  {
   "cell_type": "code",
   "execution_count": 51,
   "metadata": {},
   "outputs": [
    {
     "name": "stdout",
     "output_type": "stream",
     "text": [
      "1\n",
      "2\n",
      "3\n",
      "4\n",
      "5\n",
      "6\n",
      "7\n",
      "8\n",
      "9\n",
      "10\n"
     ]
    }
   ],
   "source": [
    "# Ejercicio 2: Escribe un programa que imprima los elementos de una lista utilizando un bucle while.\n",
    "\n",
    "lista = [1,2,3,4,5,6,7,8,9,10]\n",
    "i = 0\n",
    "\n",
    "while i < len(lista):\n",
    "    print(lista[i])\n",
    "    i += 1"
   ]
  },
  {
   "cell_type": "code",
   "execution_count": 52,
   "metadata": {},
   "outputs": [
    {
     "name": "stdout",
     "output_type": "stream",
     "text": [
      "5\n",
      "4\n",
      "3\n",
      "2\n",
      "1\n"
     ]
    }
   ],
   "source": [
    "# Ejercicio 3: Escribe un programa que imprima los elementos de una lista en orden inverso utilizando un\n",
    "# bucle for. len() -> devuelve la longitud (cantidad de elementos) de una lista\n",
    "\n",
    "lista = [1,2,3,4,5]\n",
    "\n",
    "# for i in lista[::-1]:\n",
    "#     print(i)\n",
    "\n",
    "for i in range(len(lista) - 1, -1, -1):\n",
    "  print(lista[i])"
   ]
  },
  {
   "cell_type": "code",
   "execution_count": 53,
   "metadata": {},
   "outputs": [
    {
     "name": "stdout",
     "output_type": "stream",
     "text": [
      "10\n",
      "9\n",
      "8\n",
      "7\n",
      "6\n",
      "5\n",
      "4\n",
      "3\n",
      "2\n",
      "1\n"
     ]
    }
   ],
   "source": [
    "# Ejercicio 4: Escribe un programa que imprima los elementos de una lista en orden inverso utilizando un\n",
    "# bucle while.\n",
    "\n",
    "lista = [1,2,3,4,5,6,7,8,9,10]\n",
    "index = len(lista) - 1\n",
    "\n",
    "while index >= 0:\n",
    "    print(lista[index])\n",
    "    index -= 1"
   ]
  },
  {
   "cell_type": "markdown",
   "metadata": {},
   "source": [
    "### Ejercicios con diccionarios"
   ]
  },
  {
   "cell_type": "code",
   "execution_count": 54,
   "metadata": {},
   "outputs": [
    {
     "name": "stdout",
     "output_type": "stream",
     "text": [
      "a 1\n",
      "b 2\n",
      "c 3\n",
      "d 4\n",
      "e 5\n"
     ]
    }
   ],
   "source": [
    "# Ejercicio 1: Escribe un programa que imprima las claves y valores de un diccionario utilizando\n",
    "# un bucle for.\n",
    "\n",
    "dic = {'a' : '1', 'b': '2', 'c' : '3', 'd' : '4', 'e' : '5'}\n",
    "\n",
    "for key, value in dic.items():\n",
    "    print(key, value)"
   ]
  },
  {
   "cell_type": "code",
   "execution_count": 55,
   "metadata": {},
   "outputs": [
    {
     "name": "stdout",
     "output_type": "stream",
     "text": [
      "a 1\n",
      "b 2\n",
      "c 3\n",
      "d 4\n",
      "e 5\n"
     ]
    }
   ],
   "source": [
    "# Ejercicio 2: Escribe un programa que imprima las claves y valores de un diccionario utilizando un\n",
    "# bucle while.\n",
    "\n",
    "dic = {'a' : 1, 'b' : 2, 'c' : 3, 'd' : 4, 'e' : 5}\n",
    "\n",
    "# length = len(dic)\n",
    "keys = list(dic.keys())\n",
    "values = list(dic.values())\n",
    "i = 0\n",
    "\n",
    "while i < len(dic):\n",
    "    print(keys[i], values[i])\n",
    "    i += 1"
   ]
  },
  {
   "cell_type": "code",
   "execution_count": 56,
   "metadata": {},
   "outputs": [
    {
     "name": "stdout",
     "output_type": "stream",
     "text": [
      "a\n",
      "b\n",
      "c\n",
      "d\n",
      "e\n"
     ]
    }
   ],
   "source": [
    "# Ejercicio 3: Escribe un programa que imprima las claves de un diccionario utilizando un bucle for.\n",
    "\n",
    "dic = {'a' : '1', 'b': '2', 'c' : '3', 'd' : '4', 'e' : '5'}\n",
    "\n",
    "for key in dic.keys():\n",
    "    print(key)"
   ]
  },
  {
   "cell_type": "code",
   "execution_count": 57,
   "metadata": {},
   "outputs": [
    {
     "name": "stdout",
     "output_type": "stream",
     "text": [
      "a\n",
      "b\n",
      "c\n",
      "d\n",
      "e\n"
     ]
    }
   ],
   "source": [
    "# # Ejercicio 4: Escribe un programa que imprima las claves de un diccionario utilizando un bucle while.\n",
    "\n",
    "dic = {'a' : '1', 'b': '2', 'c' : '3', 'd' : '4', 'e' : '5'}\n",
    "\n",
    "i = 0\n",
    "\n",
    "while i < len(dic):\n",
    "    key = list(dic)[i]\n",
    "    print(key)\n",
    "    i += 1"
   ]
  },
  {
   "cell_type": "markdown",
   "metadata": {},
   "source": [
    "### Más complejos"
   ]
  },
  {
   "cell_type": "code",
   "execution_count": 58,
   "metadata": {},
   "outputs": [
    {
     "name": "stdout",
     "output_type": "stream",
     "text": [
      "{'el': 3, 'rapido': 1, 'zorro': 1, 'marron': 1, 'salta': 1, 'sobre': 1, 'perro': 2, 'perezoso': 1, 'no': 1, 'estaba': 1, 'listo': 1, 'para': 1, 'eso': 1}\n"
     ]
    }
   ],
   "source": [
    "# Ejercicio 1: Conteo de Palabras: Dado un texto, contar la frecuencia de cada palabra y almacenar los\n",
    "# resultados en un diccionario (if in)\n",
    "\n",
    "import string\n",
    "\n",
    "count = {}\n",
    "texto = \"El rápido zorro marrón salta sobre el perro perezoso. El perro no estaba listo para eso.\"\n",
    "texto = texto.split()\n",
    "\n",
    "for word in texto:\n",
    "    word = word.lower()\n",
    "    word = word.translate(str.maketrans(\"áéíóú\", \"aeiou\", string.punctuation))\n",
    "    # if word in words:\n",
    "    #     count[word] += 1\n",
    "    # else:\n",
    "    #     cont[word] = 1\n",
    "    count[word] = count.get(word, 0) + 1\n",
    "print(count)\n"
   ]
  },
  {
   "cell_type": "code",
   "execution_count": 59,
   "metadata": {},
   "outputs": [
    {
     "name": "stdout",
     "output_type": "stream",
     "text": [
      "{'Ana': 85.0, 'Luis': 87.33333333333333, 'Marta': 88.0, 'Carlos': 75.0}\n"
     ]
    }
   ],
   "source": [
    "# Ejercicio 2: Promedio de Calificaciones: Dada una lista de estudiantes con sus calificaciones,\n",
    "# calcular el promedio de calificaciones por estudiante y almacenar los resultados en un diccionario.\n",
    "\n",
    "estudiantes = {\n",
    "   \"Ana\": [85, 92, 78],\n",
    "   \"Luis\": [79, 95, 88],\n",
    "   \"Marta\": [92, 88, 84],\n",
    "   \"Carlos\": [70, 75, 80]\n",
    "}\n",
    "\n",
    "resultados = {}\n",
    "\n",
    "for estudiante, notas in estudiantes.items():\n",
    "    promedio = sum(notas) / len(notas)\n",
    "    resultados[estudiante] = promedio\n",
    "    \n",
    "print(resultados)\n"
   ]
  },
  {
   "cell_type": "code",
   "execution_count": 66,
   "metadata": {},
   "outputs": [
    {
     "name": "stdout",
     "output_type": "stream",
     "text": [
      "{'pares': [2, 4, 6, 8, 10], 'impares': [1, 3, 5, 7, 9]}\n"
     ]
    }
   ],
   "source": [
    "# Ejercicio 3: Agrupación de Elementos: Dada una lista de números, agrupar los números en un\n",
    "# diccionario según su paridad (pares e impares).\n",
    "\n",
    "# Incluir con update en el loop\n",
    "\n",
    "numeros = [1, 2, 3, 4, 5, 6, 7, 8, 9, 10]\n",
    "count = {'pares' : [], 'impares' : []}\n",
    "\n",
    "for numero in numeros:\n",
    "    if numero % 2 == 0:\n",
    "        count['pares'].append(numero)\n",
    "    if numero % 2 == 1:\n",
    "        count['impares'].append(numero)\n",
    "\n",
    "print(count)"
   ]
  },
  {
   "cell_type": "code",
   "execution_count": 69,
   "metadata": {},
   "outputs": [
    {
     "name": "stdout",
     "output_type": "stream",
     "text": [
      "{'h': 2, 'o': 5, 'l': 1, 'a': 3, 'm': 2, 'u': 1, 'n': 3, 'd': 1, 'p': 2, 'y': 1, 't': 1, 'r': 2, 'g': 1, 'c': 1, 'i': 1}\n"
     ]
    }
   ],
   "source": [
    "# Ejercicio 4: Conteo de Caracteres: Dada una lista de palabras, contar la frecuencia de cada\n",
    "# carácter y almacenar los resultados en un diccionario.\n",
    "\n",
    "import string\n",
    "\n",
    "palabras = [\"hola\", \"mundo\", \"python\", \"programación\"]\n",
    "\n",
    "resultados = {}\n",
    "\n",
    "for palabra in palabras:\n",
    "    for char in palabra:\n",
    "        char = char.translate(str.maketrans(\"áéíóú\", \"aeiou\", string.punctuation))\n",
    "        # if char in resultados:\n",
    "        #     resultados[char] += 1\n",
    "        # else:\n",
    "        #     resultados[char] = 1\n",
    "        resultados[char] = resultados.get(char, 0) + 1\n",
    "\n",
    "print(resultados)"
   ]
  },
  {
   "cell_type": "code",
   "execution_count": 62,
   "metadata": {},
   "outputs": [
    {
     "name": "stdout",
     "output_type": "stream",
     "text": [
      "{'Ana': {'Matemáticas': 85, 'Ciencias': 92, 'Historia': 78}, 'Luis': {'Matemáticas': 79, 'Ciencias': 95, 'Historia': 88}, 'Marta': {'Matemáticas': 92, 'Ciencias': 88, 'Historia': 84}, 'Carlos': {'Matemáticas': 70, 'Ciencias': 75, 'Historia': 80}}\n"
     ]
    }
   ],
   "source": [
    "# Ejercicio 5: Diccionario de Diccionarios: Dada una lista de estudiantes con sus calificaciones\n",
    "# en varias asignaturas, crear un diccionario de diccionarios donde cada estudiante tiene un\n",
    "# diccionario de asignaturas y sus calificaciones.   (if not in)\n",
    "\n",
    "datos = [\n",
    "   (\"Ana\", \"Matemáticas\", 85),\n",
    "   (\"Ana\", \"Ciencias\", 92),\n",
    "   (\"Ana\", \"Historia\", 78),\n",
    "   (\"Luis\", \"Matemáticas\", 79),\n",
    "   (\"Luis\", \"Ciencias\", 95),\n",
    "   (\"Luis\", \"Historia\", 88),\n",
    "   (\"Marta\", \"Matemáticas\", 92),\n",
    "   (\"Marta\", \"Ciencias\", 88),\n",
    "   (\"Marta\", \"Historia\", 84),\n",
    "   (\"Carlos\", \"Matemáticas\", 70),\n",
    "   (\"Carlos\", \"Ciencias\", 75),\n",
    "   (\"Carlos\", \"Historia\", 80)\n",
    "]\n",
    "\n",
    "dicc = {}\n",
    "\n",
    "for estudiante, asignatura, nota in datos:\n",
    "    if estudiante not in dicc:\n",
    "        dicc[estudiante] = {}\n",
    "    dicc[estudiante][asignatura] = nota\n",
    "\n",
    "print(dicc)\n",
    "            "
   ]
  }
 ],
 "metadata": {
  "kernelspec": {
   "display_name": "Python 3",
   "language": "python",
   "name": "python3"
  },
  "language_info": {
   "codemirror_mode": {
    "name": "ipython",
    "version": 3
   },
   "file_extension": ".py",
   "mimetype": "text/x-python",
   "name": "python",
   "nbconvert_exporter": "python",
   "pygments_lexer": "ipython3",
   "version": "3.11.4"
  }
 },
 "nbformat": 4,
 "nbformat_minor": 2
}
